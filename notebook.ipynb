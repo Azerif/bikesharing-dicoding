{
 "cells": [
  {
   "cell_type": "markdown",
   "metadata": {
    "id": "H9wADwK78DCz"
   },
   "source": [
    "# Proyek Analisis Data: Bike Sharing\n",
    "- **Nama:** Azrian Rifqi Radhitya\n",
    "- **Email:** azrianrifqi115@gmail.com\n",
    "- **ID Dicoding:** azrianrifq"
   ]
  },
  {
   "cell_type": "markdown",
   "metadata": {
    "id": "eE0raob58DC0"
   },
   "source": [
    "## Menentukan Pertanyaan Bisnis"
   ]
  },
  {
   "cell_type": "markdown",
   "metadata": {
    "id": "GmQeQ5YF8DC0"
   },
   "source": [
    "- Apa dampak cuaca terhadap jumlah rental sepeda, dan apakah dampaknya berbeda untuk pengguna biasa vs terdaftar?\n",
    "- Pada kondisi cuaca apa bike sharing paling sedikit digunakan, dan apakah ini konsisten di semua musim?\n",
    "- Apakah ada perbedaan signifikan antara jumlah pengguna pada hari kerja vs akhir pekan?\n",
    "- Apakah ada korelasi antara suhu dengan jumlah pengguna? Bagaimana pengaruhnya?"
   ]
  },
  {
   "cell_type": "markdown",
   "metadata": {
    "id": "H-z4QGlO8DC1"
   },
   "source": [
    "## Import Semua Packages/Library yang Digunakan"
   ]
  },
  {
   "cell_type": "code",
   "execution_count": 53,
   "metadata": {
    "id": "FVYwaObI8DC1"
   },
   "outputs": [],
   "source": [
    "import numpy as np\n",
    "import pandas as pd\n",
    "import matplotlib.pyplot as plt\n",
    "import seaborn as sns"
   ]
  },
  {
   "cell_type": "markdown",
   "metadata": {
    "id": "h_Sh51Xy8DC1"
   },
   "source": [
    "## 1. Data Wrangling"
   ]
  },
  {
   "cell_type": "markdown",
   "metadata": {
    "id": "sXU2GBYu8DC1"
   },
   "source": [
    "### 1.1 Gathering Data"
   ]
  },
  {
   "cell_type": "code",
   "execution_count": 54,
   "metadata": {
    "id": "zjCBk1BI8DC1"
   },
   "outputs": [],
   "source": [
    "# membaca berkas file csv\n",
    "data_path = 'data/'\n",
    "hour_df = pd.read_csv(f'{data_path}hour.csv')\n",
    "day_df = pd.read_csv(f'{data_path}day.csv')"
   ]
  },
  {
   "cell_type": "code",
   "execution_count": 55,
   "metadata": {},
   "outputs": [
    {
     "data": {
      "text/html": [
       "<div>\n",
       "<style scoped>\n",
       "    .dataframe tbody tr th:only-of-type {\n",
       "        vertical-align: middle;\n",
       "    }\n",
       "\n",
       "    .dataframe tbody tr th {\n",
       "        vertical-align: top;\n",
       "    }\n",
       "\n",
       "    .dataframe thead th {\n",
       "        text-align: right;\n",
       "    }\n",
       "</style>\n",
       "<table border=\"1\" class=\"dataframe\">\n",
       "  <thead>\n",
       "    <tr style=\"text-align: right;\">\n",
       "      <th></th>\n",
       "      <th>instant</th>\n",
       "      <th>dteday</th>\n",
       "      <th>season</th>\n",
       "      <th>yr</th>\n",
       "      <th>mnth</th>\n",
       "      <th>hr</th>\n",
       "      <th>holiday</th>\n",
       "      <th>weekday</th>\n",
       "      <th>workingday</th>\n",
       "      <th>weathersit</th>\n",
       "      <th>temp</th>\n",
       "      <th>atemp</th>\n",
       "      <th>hum</th>\n",
       "      <th>windspeed</th>\n",
       "      <th>casual</th>\n",
       "      <th>registered</th>\n",
       "      <th>cnt</th>\n",
       "    </tr>\n",
       "  </thead>\n",
       "  <tbody>\n",
       "    <tr>\n",
       "      <th>0</th>\n",
       "      <td>1</td>\n",
       "      <td>2011-01-01</td>\n",
       "      <td>1</td>\n",
       "      <td>0</td>\n",
       "      <td>1</td>\n",
       "      <td>0</td>\n",
       "      <td>0</td>\n",
       "      <td>6</td>\n",
       "      <td>0</td>\n",
       "      <td>1</td>\n",
       "      <td>0.24</td>\n",
       "      <td>0.2879</td>\n",
       "      <td>0.81</td>\n",
       "      <td>0.0</td>\n",
       "      <td>3</td>\n",
       "      <td>13</td>\n",
       "      <td>16</td>\n",
       "    </tr>\n",
       "    <tr>\n",
       "      <th>1</th>\n",
       "      <td>2</td>\n",
       "      <td>2011-01-01</td>\n",
       "      <td>1</td>\n",
       "      <td>0</td>\n",
       "      <td>1</td>\n",
       "      <td>1</td>\n",
       "      <td>0</td>\n",
       "      <td>6</td>\n",
       "      <td>0</td>\n",
       "      <td>1</td>\n",
       "      <td>0.22</td>\n",
       "      <td>0.2727</td>\n",
       "      <td>0.80</td>\n",
       "      <td>0.0</td>\n",
       "      <td>8</td>\n",
       "      <td>32</td>\n",
       "      <td>40</td>\n",
       "    </tr>\n",
       "    <tr>\n",
       "      <th>2</th>\n",
       "      <td>3</td>\n",
       "      <td>2011-01-01</td>\n",
       "      <td>1</td>\n",
       "      <td>0</td>\n",
       "      <td>1</td>\n",
       "      <td>2</td>\n",
       "      <td>0</td>\n",
       "      <td>6</td>\n",
       "      <td>0</td>\n",
       "      <td>1</td>\n",
       "      <td>0.22</td>\n",
       "      <td>0.2727</td>\n",
       "      <td>0.80</td>\n",
       "      <td>0.0</td>\n",
       "      <td>5</td>\n",
       "      <td>27</td>\n",
       "      <td>32</td>\n",
       "    </tr>\n",
       "    <tr>\n",
       "      <th>3</th>\n",
       "      <td>4</td>\n",
       "      <td>2011-01-01</td>\n",
       "      <td>1</td>\n",
       "      <td>0</td>\n",
       "      <td>1</td>\n",
       "      <td>3</td>\n",
       "      <td>0</td>\n",
       "      <td>6</td>\n",
       "      <td>0</td>\n",
       "      <td>1</td>\n",
       "      <td>0.24</td>\n",
       "      <td>0.2879</td>\n",
       "      <td>0.75</td>\n",
       "      <td>0.0</td>\n",
       "      <td>3</td>\n",
       "      <td>10</td>\n",
       "      <td>13</td>\n",
       "    </tr>\n",
       "    <tr>\n",
       "      <th>4</th>\n",
       "      <td>5</td>\n",
       "      <td>2011-01-01</td>\n",
       "      <td>1</td>\n",
       "      <td>0</td>\n",
       "      <td>1</td>\n",
       "      <td>4</td>\n",
       "      <td>0</td>\n",
       "      <td>6</td>\n",
       "      <td>0</td>\n",
       "      <td>1</td>\n",
       "      <td>0.24</td>\n",
       "      <td>0.2879</td>\n",
       "      <td>0.75</td>\n",
       "      <td>0.0</td>\n",
       "      <td>0</td>\n",
       "      <td>1</td>\n",
       "      <td>1</td>\n",
       "    </tr>\n",
       "  </tbody>\n",
       "</table>\n",
       "</div>"
      ],
      "text/plain": [
       "   instant      dteday  season  yr  mnth  hr  holiday  weekday  workingday  \\\n",
       "0        1  2011-01-01       1   0     1   0        0        6           0   \n",
       "1        2  2011-01-01       1   0     1   1        0        6           0   \n",
       "2        3  2011-01-01       1   0     1   2        0        6           0   \n",
       "3        4  2011-01-01       1   0     1   3        0        6           0   \n",
       "4        5  2011-01-01       1   0     1   4        0        6           0   \n",
       "\n",
       "   weathersit  temp   atemp   hum  windspeed  casual  registered  cnt  \n",
       "0           1  0.24  0.2879  0.81        0.0       3          13   16  \n",
       "1           1  0.22  0.2727  0.80        0.0       8          32   40  \n",
       "2           1  0.22  0.2727  0.80        0.0       5          27   32  \n",
       "3           1  0.24  0.2879  0.75        0.0       3          10   13  \n",
       "4           1  0.24  0.2879  0.75        0.0       0           1    1  "
      ]
     },
     "execution_count": 55,
     "metadata": {},
     "output_type": "execute_result"
    }
   ],
   "source": [
    "hour_df.head()"
   ]
  },
  {
   "cell_type": "code",
   "execution_count": 56,
   "metadata": {},
   "outputs": [
    {
     "data": {
      "text/html": [
       "<div>\n",
       "<style scoped>\n",
       "    .dataframe tbody tr th:only-of-type {\n",
       "        vertical-align: middle;\n",
       "    }\n",
       "\n",
       "    .dataframe tbody tr th {\n",
       "        vertical-align: top;\n",
       "    }\n",
       "\n",
       "    .dataframe thead th {\n",
       "        text-align: right;\n",
       "    }\n",
       "</style>\n",
       "<table border=\"1\" class=\"dataframe\">\n",
       "  <thead>\n",
       "    <tr style=\"text-align: right;\">\n",
       "      <th></th>\n",
       "      <th>instant</th>\n",
       "      <th>dteday</th>\n",
       "      <th>season</th>\n",
       "      <th>yr</th>\n",
       "      <th>mnth</th>\n",
       "      <th>holiday</th>\n",
       "      <th>weekday</th>\n",
       "      <th>workingday</th>\n",
       "      <th>weathersit</th>\n",
       "      <th>temp</th>\n",
       "      <th>atemp</th>\n",
       "      <th>hum</th>\n",
       "      <th>windspeed</th>\n",
       "      <th>casual</th>\n",
       "      <th>registered</th>\n",
       "      <th>cnt</th>\n",
       "    </tr>\n",
       "  </thead>\n",
       "  <tbody>\n",
       "    <tr>\n",
       "      <th>0</th>\n",
       "      <td>1</td>\n",
       "      <td>2011-01-01</td>\n",
       "      <td>1</td>\n",
       "      <td>0</td>\n",
       "      <td>1</td>\n",
       "      <td>0</td>\n",
       "      <td>6</td>\n",
       "      <td>0</td>\n",
       "      <td>2</td>\n",
       "      <td>0.344167</td>\n",
       "      <td>0.363625</td>\n",
       "      <td>0.805833</td>\n",
       "      <td>0.160446</td>\n",
       "      <td>331</td>\n",
       "      <td>654</td>\n",
       "      <td>985</td>\n",
       "    </tr>\n",
       "    <tr>\n",
       "      <th>1</th>\n",
       "      <td>2</td>\n",
       "      <td>2011-01-02</td>\n",
       "      <td>1</td>\n",
       "      <td>0</td>\n",
       "      <td>1</td>\n",
       "      <td>0</td>\n",
       "      <td>0</td>\n",
       "      <td>0</td>\n",
       "      <td>2</td>\n",
       "      <td>0.363478</td>\n",
       "      <td>0.353739</td>\n",
       "      <td>0.696087</td>\n",
       "      <td>0.248539</td>\n",
       "      <td>131</td>\n",
       "      <td>670</td>\n",
       "      <td>801</td>\n",
       "    </tr>\n",
       "    <tr>\n",
       "      <th>2</th>\n",
       "      <td>3</td>\n",
       "      <td>2011-01-03</td>\n",
       "      <td>1</td>\n",
       "      <td>0</td>\n",
       "      <td>1</td>\n",
       "      <td>0</td>\n",
       "      <td>1</td>\n",
       "      <td>1</td>\n",
       "      <td>1</td>\n",
       "      <td>0.196364</td>\n",
       "      <td>0.189405</td>\n",
       "      <td>0.437273</td>\n",
       "      <td>0.248309</td>\n",
       "      <td>120</td>\n",
       "      <td>1229</td>\n",
       "      <td>1349</td>\n",
       "    </tr>\n",
       "    <tr>\n",
       "      <th>3</th>\n",
       "      <td>4</td>\n",
       "      <td>2011-01-04</td>\n",
       "      <td>1</td>\n",
       "      <td>0</td>\n",
       "      <td>1</td>\n",
       "      <td>0</td>\n",
       "      <td>2</td>\n",
       "      <td>1</td>\n",
       "      <td>1</td>\n",
       "      <td>0.200000</td>\n",
       "      <td>0.212122</td>\n",
       "      <td>0.590435</td>\n",
       "      <td>0.160296</td>\n",
       "      <td>108</td>\n",
       "      <td>1454</td>\n",
       "      <td>1562</td>\n",
       "    </tr>\n",
       "    <tr>\n",
       "      <th>4</th>\n",
       "      <td>5</td>\n",
       "      <td>2011-01-05</td>\n",
       "      <td>1</td>\n",
       "      <td>0</td>\n",
       "      <td>1</td>\n",
       "      <td>0</td>\n",
       "      <td>3</td>\n",
       "      <td>1</td>\n",
       "      <td>1</td>\n",
       "      <td>0.226957</td>\n",
       "      <td>0.229270</td>\n",
       "      <td>0.436957</td>\n",
       "      <td>0.186900</td>\n",
       "      <td>82</td>\n",
       "      <td>1518</td>\n",
       "      <td>1600</td>\n",
       "    </tr>\n",
       "  </tbody>\n",
       "</table>\n",
       "</div>"
      ],
      "text/plain": [
       "   instant      dteday  season  yr  mnth  holiday  weekday  workingday  \\\n",
       "0        1  2011-01-01       1   0     1        0        6           0   \n",
       "1        2  2011-01-02       1   0     1        0        0           0   \n",
       "2        3  2011-01-03       1   0     1        0        1           1   \n",
       "3        4  2011-01-04       1   0     1        0        2           1   \n",
       "4        5  2011-01-05       1   0     1        0        3           1   \n",
       "\n",
       "   weathersit      temp     atemp       hum  windspeed  casual  registered  \\\n",
       "0           2  0.344167  0.363625  0.805833   0.160446     331         654   \n",
       "1           2  0.363478  0.353739  0.696087   0.248539     131         670   \n",
       "2           1  0.196364  0.189405  0.437273   0.248309     120        1229   \n",
       "3           1  0.200000  0.212122  0.590435   0.160296     108        1454   \n",
       "4           1  0.226957  0.229270  0.436957   0.186900      82        1518   \n",
       "\n",
       "    cnt  \n",
       "0   985  \n",
       "1   801  \n",
       "2  1349  \n",
       "3  1562  \n",
       "4  1600  "
      ]
     },
     "execution_count": 56,
     "metadata": {},
     "output_type": "execute_result"
    }
   ],
   "source": [
    "day_df.head()"
   ]
  },
  {
   "cell_type": "code",
   "execution_count": 57,
   "metadata": {},
   "outputs": [
    {
     "name": "stdout",
     "output_type": "stream",
     "text": [
      "Terdapat 17379 baris dan 17 kolom pada dataset hour\n",
      "Terdapat 731 baris dan 16 kolom pada dataset day\n"
     ]
    }
   ],
   "source": [
    "print(f'Terdapat {hour_df.shape[0]} baris dan {hour_df.shape[1]} kolom pada dataset hour')\n",
    "print(f'Terdapat {day_df.shape[0]} baris dan {day_df.shape[1]} kolom pada dataset day')"
   ]
  },
  {
   "cell_type": "markdown",
   "metadata": {},
   "source": [
    "#### Karakteristik dataset\n",
    "Kedua dataset memiliki kolom yang sama sebagai berikut, kecuali kolom hr yang tidak ada di berkas day.csv\n",
    "- instant: record index\n",
    "- dteday : date\n",
    "- season : season (1:springer, 2:summer, 3:fall, 4:winter)\n",
    "- yr : year (0: 2011, 1:2012)\n",
    "- mnth : month ( 1 to 12)\n",
    "- hr : hour (0 to 23)\n",
    "- holiday : weather day is holiday or not (extracted from http://dchr.dc.gov/page/holiday-schedule)\n",
    "- weekday : day of the week\n",
    "- workingday : if day is neither weekend nor holiday is 1, otherwise is 0.\n",
    "+ weathersit : \n",
    "\t- 1: Clear, Few clouds, Partly cloudy, Partly cloudy\n",
    "\t- 2: Mist + Cloudy, Mist + Broken clouds, Mist + Few clouds, Mist\n",
    "\t- 3: Light Snow, Light Rain + Thunderstorm + Scattered clouds, Light Rain + Scattered clouds\n",
    "\t- 4: Heavy Rain + Ice Pallets + Thunderstorm + Mist, Snow + Fog\n",
    "- temp : Normalized temperature in Celsius. The values are divided to 41 (max)\n",
    "- atemp: Normalized feeling temperature in Celsius. The values are divided to 50 (max)\n",
    "- hum: Normalized humidity. The values are divided to 100 (max)\n",
    "- windspeed: Normalized wind speed. The values are divided to 67 (max)\n",
    "- casual: count of casual users\n",
    "- registered: count of registered users\n",
    "- cnt: count of total rental bikes including both casual and registered"
   ]
  },
  {
   "cell_type": "markdown",
   "metadata": {
    "id": "FHSiqaZp8DC1"
   },
   "source": [
    "### 1.2 Assessing Data"
   ]
  },
  {
   "cell_type": "markdown",
   "metadata": {},
   "source": [
    "#### 1.2.1 Menilai Tabel `hour_df` dan `day_df`"
   ]
  },
  {
   "cell_type": "code",
   "execution_count": 58,
   "metadata": {
    "id": "ax-3tEjc9Cj1"
   },
   "outputs": [
    {
     "name": "stdout",
     "output_type": "stream",
     "text": [
      "<class 'pandas.core.frame.DataFrame'>\n",
      "RangeIndex: 17379 entries, 0 to 17378\n",
      "Data columns (total 17 columns):\n",
      " #   Column      Non-Null Count  Dtype  \n",
      "---  ------      --------------  -----  \n",
      " 0   instant     17379 non-null  int64  \n",
      " 1   dteday      17379 non-null  object \n",
      " 2   season      17379 non-null  int64  \n",
      " 3   yr          17379 non-null  int64  \n",
      " 4   mnth        17379 non-null  int64  \n",
      " 5   hr          17379 non-null  int64  \n",
      " 6   holiday     17379 non-null  int64  \n",
      " 7   weekday     17379 non-null  int64  \n",
      " 8   workingday  17379 non-null  int64  \n",
      " 9   weathersit  17379 non-null  int64  \n",
      " 10  temp        17379 non-null  float64\n",
      " 11  atemp       17379 non-null  float64\n",
      " 12  hum         17379 non-null  float64\n",
      " 13  windspeed   17379 non-null  float64\n",
      " 14  casual      17379 non-null  int64  \n",
      " 15  registered  17379 non-null  int64  \n",
      " 16  cnt         17379 non-null  int64  \n",
      "dtypes: float64(4), int64(12), object(1)\n",
      "memory usage: 2.3+ MB\n",
      "<class 'pandas.core.frame.DataFrame'>\n",
      "RangeIndex: 731 entries, 0 to 730\n",
      "Data columns (total 16 columns):\n",
      " #   Column      Non-Null Count  Dtype  \n",
      "---  ------      --------------  -----  \n",
      " 0   instant     731 non-null    int64  \n",
      " 1   dteday      731 non-null    object \n",
      " 2   season      731 non-null    int64  \n",
      " 3   yr          731 non-null    int64  \n",
      " 4   mnth        731 non-null    int64  \n",
      " 5   holiday     731 non-null    int64  \n",
      " 6   weekday     731 non-null    int64  \n",
      " 7   workingday  731 non-null    int64  \n",
      " 8   weathersit  731 non-null    int64  \n",
      " 9   temp        731 non-null    float64\n",
      " 10  atemp       731 non-null    float64\n",
      " 11  hum         731 non-null    float64\n",
      " 12  windspeed   731 non-null    float64\n",
      " 13  casual      731 non-null    int64  \n",
      " 14  registered  731 non-null    int64  \n",
      " 15  cnt         731 non-null    int64  \n",
      "dtypes: float64(4), int64(11), object(1)\n",
      "memory usage: 91.5+ KB\n"
     ]
    }
   ],
   "source": [
    "# memeriksa tipe data dari masing-masing kolom \n",
    "hour_df.info()\n",
    "day_df.info()"
   ]
  },
  {
   "cell_type": "markdown",
   "metadata": {},
   "source": [
    "Hasil penilaian\n",
    "* Dataset `hour_df` tidak akan digunakan karena pertanyaan bisnis tidak membutuhkan kolom `hr`\n",
    "* Kolom `dteday` memiliki tipe data object, seharusnya kolom tersebut bertipe data `datetime` karena berisikan tanggal\n",
    "* Kolom `yr` `season` `mnth` `weekday` `weathersit` lebih baik diubah menjadi string supaya visualisasi data menjadi lebih baik \n",
    "* Kolom `temp` dan `atemp` sebaiknya diubah ke dalam bentuk sebelum normalisasi supaya lebih relevan dan mudah dipahami audiens\n"
   ]
  },
  {
   "cell_type": "markdown",
   "metadata": {},
   "source": [
    "#### 1.2.2 Mengidentifikasi Missing Value"
   ]
  },
  {
   "cell_type": "code",
   "execution_count": 59,
   "metadata": {},
   "outputs": [
    {
     "data": {
      "text/plain": [
       "instant       0\n",
       "dteday        0\n",
       "season        0\n",
       "yr            0\n",
       "mnth          0\n",
       "hr            0\n",
       "holiday       0\n",
       "weekday       0\n",
       "workingday    0\n",
       "weathersit    0\n",
       "temp          0\n",
       "atemp         0\n",
       "hum           0\n",
       "windspeed     0\n",
       "casual        0\n",
       "registered    0\n",
       "cnt           0\n",
       "dtype: int64"
      ]
     },
     "execution_count": 59,
     "metadata": {},
     "output_type": "execute_result"
    }
   ],
   "source": [
    "# mengidentifikasi keberadaan missing value pada dataset hour\n",
    "hour_df.isna().sum()"
   ]
  },
  {
   "cell_type": "code",
   "execution_count": 60,
   "metadata": {},
   "outputs": [
    {
     "data": {
      "text/plain": [
       "instant       0\n",
       "dteday        0\n",
       "season        0\n",
       "yr            0\n",
       "mnth          0\n",
       "holiday       0\n",
       "weekday       0\n",
       "workingday    0\n",
       "weathersit    0\n",
       "temp          0\n",
       "atemp         0\n",
       "hum           0\n",
       "windspeed     0\n",
       "casual        0\n",
       "registered    0\n",
       "cnt           0\n",
       "dtype: int64"
      ]
     },
     "execution_count": 60,
     "metadata": {},
     "output_type": "execute_result"
    }
   ],
   "source": [
    "# mengidentifikasi keberadaan missing value pada dataset day\n",
    "day_df.isna().sum()"
   ]
  },
  {
   "cell_type": "markdown",
   "metadata": {},
   "source": [
    "Tidak ditemukan adanya missing value pada kedua dataset sehingga penanganan missing value tidak perlu dilakukan."
   ]
  },
  {
   "cell_type": "markdown",
   "metadata": {},
   "source": [
    "#### 1.2.3 Memeriksa Duplikasi"
   ]
  },
  {
   "cell_type": "code",
   "execution_count": 61,
   "metadata": {},
   "outputs": [
    {
     "name": "stdout",
     "output_type": "stream",
     "text": [
      "Jumlah duplikasi pada dataset hour:  0\n",
      "Jumlah duplikasi pada dataset day:  0\n"
     ]
    }
   ],
   "source": [
    "# memeriksa duplikasi pada masing-masing dataset\n",
    "print('Jumlah duplikasi pada dataset hour: ', hour_df.duplicated().sum())\n",
    "print('Jumlah duplikasi pada dataset day: ', day_df.duplicated().sum())"
   ]
  },
  {
   "cell_type": "markdown",
   "metadata": {},
   "source": [
    "Tidak ditemukan adanya duplikasi data pada kedua dataset sehingga penanganan duplikasi tidak perlu dilakukan."
   ]
  },
  {
   "cell_type": "markdown",
   "metadata": {},
   "source": [
    "#### 1.2.4 Memeriksa Parameter Statistik"
   ]
  },
  {
   "cell_type": "code",
   "execution_count": 62,
   "metadata": {},
   "outputs": [
    {
     "data": {
      "text/html": [
       "<div>\n",
       "<style scoped>\n",
       "    .dataframe tbody tr th:only-of-type {\n",
       "        vertical-align: middle;\n",
       "    }\n",
       "\n",
       "    .dataframe tbody tr th {\n",
       "        vertical-align: top;\n",
       "    }\n",
       "\n",
       "    .dataframe thead th {\n",
       "        text-align: right;\n",
       "    }\n",
       "</style>\n",
       "<table border=\"1\" class=\"dataframe\">\n",
       "  <thead>\n",
       "    <tr style=\"text-align: right;\">\n",
       "      <th></th>\n",
       "      <th>instant</th>\n",
       "      <th>season</th>\n",
       "      <th>yr</th>\n",
       "      <th>mnth</th>\n",
       "      <th>hr</th>\n",
       "      <th>holiday</th>\n",
       "      <th>weekday</th>\n",
       "      <th>workingday</th>\n",
       "      <th>weathersit</th>\n",
       "      <th>temp</th>\n",
       "      <th>atemp</th>\n",
       "      <th>hum</th>\n",
       "      <th>windspeed</th>\n",
       "      <th>casual</th>\n",
       "      <th>registered</th>\n",
       "      <th>cnt</th>\n",
       "    </tr>\n",
       "  </thead>\n",
       "  <tbody>\n",
       "    <tr>\n",
       "      <th>count</th>\n",
       "      <td>17379.0000</td>\n",
       "      <td>17379.000000</td>\n",
       "      <td>17379.000000</td>\n",
       "      <td>17379.000000</td>\n",
       "      <td>17379.000000</td>\n",
       "      <td>17379.000000</td>\n",
       "      <td>17379.000000</td>\n",
       "      <td>17379.000000</td>\n",
       "      <td>17379.000000</td>\n",
       "      <td>17379.000000</td>\n",
       "      <td>17379.000000</td>\n",
       "      <td>17379.000000</td>\n",
       "      <td>17379.000000</td>\n",
       "      <td>17379.000000</td>\n",
       "      <td>17379.000000</td>\n",
       "      <td>17379.000000</td>\n",
       "    </tr>\n",
       "    <tr>\n",
       "      <th>mean</th>\n",
       "      <td>8690.0000</td>\n",
       "      <td>2.501640</td>\n",
       "      <td>0.502561</td>\n",
       "      <td>6.537775</td>\n",
       "      <td>11.546752</td>\n",
       "      <td>0.028770</td>\n",
       "      <td>3.003683</td>\n",
       "      <td>0.682721</td>\n",
       "      <td>1.425283</td>\n",
       "      <td>0.496987</td>\n",
       "      <td>0.475775</td>\n",
       "      <td>0.627229</td>\n",
       "      <td>0.190098</td>\n",
       "      <td>35.676218</td>\n",
       "      <td>153.786869</td>\n",
       "      <td>189.463088</td>\n",
       "    </tr>\n",
       "    <tr>\n",
       "      <th>std</th>\n",
       "      <td>5017.0295</td>\n",
       "      <td>1.106918</td>\n",
       "      <td>0.500008</td>\n",
       "      <td>3.438776</td>\n",
       "      <td>6.914405</td>\n",
       "      <td>0.167165</td>\n",
       "      <td>2.005771</td>\n",
       "      <td>0.465431</td>\n",
       "      <td>0.639357</td>\n",
       "      <td>0.192556</td>\n",
       "      <td>0.171850</td>\n",
       "      <td>0.192930</td>\n",
       "      <td>0.122340</td>\n",
       "      <td>49.305030</td>\n",
       "      <td>151.357286</td>\n",
       "      <td>181.387599</td>\n",
       "    </tr>\n",
       "    <tr>\n",
       "      <th>min</th>\n",
       "      <td>1.0000</td>\n",
       "      <td>1.000000</td>\n",
       "      <td>0.000000</td>\n",
       "      <td>1.000000</td>\n",
       "      <td>0.000000</td>\n",
       "      <td>0.000000</td>\n",
       "      <td>0.000000</td>\n",
       "      <td>0.000000</td>\n",
       "      <td>1.000000</td>\n",
       "      <td>0.020000</td>\n",
       "      <td>0.000000</td>\n",
       "      <td>0.000000</td>\n",
       "      <td>0.000000</td>\n",
       "      <td>0.000000</td>\n",
       "      <td>0.000000</td>\n",
       "      <td>1.000000</td>\n",
       "    </tr>\n",
       "    <tr>\n",
       "      <th>25%</th>\n",
       "      <td>4345.5000</td>\n",
       "      <td>2.000000</td>\n",
       "      <td>0.000000</td>\n",
       "      <td>4.000000</td>\n",
       "      <td>6.000000</td>\n",
       "      <td>0.000000</td>\n",
       "      <td>1.000000</td>\n",
       "      <td>0.000000</td>\n",
       "      <td>1.000000</td>\n",
       "      <td>0.340000</td>\n",
       "      <td>0.333300</td>\n",
       "      <td>0.480000</td>\n",
       "      <td>0.104500</td>\n",
       "      <td>4.000000</td>\n",
       "      <td>34.000000</td>\n",
       "      <td>40.000000</td>\n",
       "    </tr>\n",
       "    <tr>\n",
       "      <th>50%</th>\n",
       "      <td>8690.0000</td>\n",
       "      <td>3.000000</td>\n",
       "      <td>1.000000</td>\n",
       "      <td>7.000000</td>\n",
       "      <td>12.000000</td>\n",
       "      <td>0.000000</td>\n",
       "      <td>3.000000</td>\n",
       "      <td>1.000000</td>\n",
       "      <td>1.000000</td>\n",
       "      <td>0.500000</td>\n",
       "      <td>0.484800</td>\n",
       "      <td>0.630000</td>\n",
       "      <td>0.194000</td>\n",
       "      <td>17.000000</td>\n",
       "      <td>115.000000</td>\n",
       "      <td>142.000000</td>\n",
       "    </tr>\n",
       "    <tr>\n",
       "      <th>75%</th>\n",
       "      <td>13034.5000</td>\n",
       "      <td>3.000000</td>\n",
       "      <td>1.000000</td>\n",
       "      <td>10.000000</td>\n",
       "      <td>18.000000</td>\n",
       "      <td>0.000000</td>\n",
       "      <td>5.000000</td>\n",
       "      <td>1.000000</td>\n",
       "      <td>2.000000</td>\n",
       "      <td>0.660000</td>\n",
       "      <td>0.621200</td>\n",
       "      <td>0.780000</td>\n",
       "      <td>0.253700</td>\n",
       "      <td>48.000000</td>\n",
       "      <td>220.000000</td>\n",
       "      <td>281.000000</td>\n",
       "    </tr>\n",
       "    <tr>\n",
       "      <th>max</th>\n",
       "      <td>17379.0000</td>\n",
       "      <td>4.000000</td>\n",
       "      <td>1.000000</td>\n",
       "      <td>12.000000</td>\n",
       "      <td>23.000000</td>\n",
       "      <td>1.000000</td>\n",
       "      <td>6.000000</td>\n",
       "      <td>1.000000</td>\n",
       "      <td>4.000000</td>\n",
       "      <td>1.000000</td>\n",
       "      <td>1.000000</td>\n",
       "      <td>1.000000</td>\n",
       "      <td>0.850700</td>\n",
       "      <td>367.000000</td>\n",
       "      <td>886.000000</td>\n",
       "      <td>977.000000</td>\n",
       "    </tr>\n",
       "  </tbody>\n",
       "</table>\n",
       "</div>"
      ],
      "text/plain": [
       "          instant        season            yr          mnth            hr  \\\n",
       "count  17379.0000  17379.000000  17379.000000  17379.000000  17379.000000   \n",
       "mean    8690.0000      2.501640      0.502561      6.537775     11.546752   \n",
       "std     5017.0295      1.106918      0.500008      3.438776      6.914405   \n",
       "min        1.0000      1.000000      0.000000      1.000000      0.000000   \n",
       "25%     4345.5000      2.000000      0.000000      4.000000      6.000000   \n",
       "50%     8690.0000      3.000000      1.000000      7.000000     12.000000   \n",
       "75%    13034.5000      3.000000      1.000000     10.000000     18.000000   \n",
       "max    17379.0000      4.000000      1.000000     12.000000     23.000000   \n",
       "\n",
       "            holiday       weekday    workingday    weathersit          temp  \\\n",
       "count  17379.000000  17379.000000  17379.000000  17379.000000  17379.000000   \n",
       "mean       0.028770      3.003683      0.682721      1.425283      0.496987   \n",
       "std        0.167165      2.005771      0.465431      0.639357      0.192556   \n",
       "min        0.000000      0.000000      0.000000      1.000000      0.020000   \n",
       "25%        0.000000      1.000000      0.000000      1.000000      0.340000   \n",
       "50%        0.000000      3.000000      1.000000      1.000000      0.500000   \n",
       "75%        0.000000      5.000000      1.000000      2.000000      0.660000   \n",
       "max        1.000000      6.000000      1.000000      4.000000      1.000000   \n",
       "\n",
       "              atemp           hum     windspeed        casual    registered  \\\n",
       "count  17379.000000  17379.000000  17379.000000  17379.000000  17379.000000   \n",
       "mean       0.475775      0.627229      0.190098     35.676218    153.786869   \n",
       "std        0.171850      0.192930      0.122340     49.305030    151.357286   \n",
       "min        0.000000      0.000000      0.000000      0.000000      0.000000   \n",
       "25%        0.333300      0.480000      0.104500      4.000000     34.000000   \n",
       "50%        0.484800      0.630000      0.194000     17.000000    115.000000   \n",
       "75%        0.621200      0.780000      0.253700     48.000000    220.000000   \n",
       "max        1.000000      1.000000      0.850700    367.000000    886.000000   \n",
       "\n",
       "                cnt  \n",
       "count  17379.000000  \n",
       "mean     189.463088  \n",
       "std      181.387599  \n",
       "min        1.000000  \n",
       "25%       40.000000  \n",
       "50%      142.000000  \n",
       "75%      281.000000  \n",
       "max      977.000000  "
      ]
     },
     "execution_count": 62,
     "metadata": {},
     "output_type": "execute_result"
    }
   ],
   "source": [
    "# memeriksa parameter statistik untuk kolom numerik pada dataset hour\n",
    "hour_df.describe()"
   ]
  },
  {
   "cell_type": "code",
   "execution_count": 63,
   "metadata": {},
   "outputs": [
    {
     "data": {
      "text/html": [
       "<div>\n",
       "<style scoped>\n",
       "    .dataframe tbody tr th:only-of-type {\n",
       "        vertical-align: middle;\n",
       "    }\n",
       "\n",
       "    .dataframe tbody tr th {\n",
       "        vertical-align: top;\n",
       "    }\n",
       "\n",
       "    .dataframe thead th {\n",
       "        text-align: right;\n",
       "    }\n",
       "</style>\n",
       "<table border=\"1\" class=\"dataframe\">\n",
       "  <thead>\n",
       "    <tr style=\"text-align: right;\">\n",
       "      <th></th>\n",
       "      <th>instant</th>\n",
       "      <th>season</th>\n",
       "      <th>yr</th>\n",
       "      <th>mnth</th>\n",
       "      <th>holiday</th>\n",
       "      <th>weekday</th>\n",
       "      <th>workingday</th>\n",
       "      <th>weathersit</th>\n",
       "      <th>temp</th>\n",
       "      <th>atemp</th>\n",
       "      <th>hum</th>\n",
       "      <th>windspeed</th>\n",
       "      <th>casual</th>\n",
       "      <th>registered</th>\n",
       "      <th>cnt</th>\n",
       "    </tr>\n",
       "  </thead>\n",
       "  <tbody>\n",
       "    <tr>\n",
       "      <th>count</th>\n",
       "      <td>731.000000</td>\n",
       "      <td>731.000000</td>\n",
       "      <td>731.000000</td>\n",
       "      <td>731.000000</td>\n",
       "      <td>731.000000</td>\n",
       "      <td>731.000000</td>\n",
       "      <td>731.000000</td>\n",
       "      <td>731.000000</td>\n",
       "      <td>731.000000</td>\n",
       "      <td>731.000000</td>\n",
       "      <td>731.000000</td>\n",
       "      <td>731.000000</td>\n",
       "      <td>731.000000</td>\n",
       "      <td>731.000000</td>\n",
       "      <td>731.000000</td>\n",
       "    </tr>\n",
       "    <tr>\n",
       "      <th>mean</th>\n",
       "      <td>366.000000</td>\n",
       "      <td>2.496580</td>\n",
       "      <td>0.500684</td>\n",
       "      <td>6.519836</td>\n",
       "      <td>0.028728</td>\n",
       "      <td>2.997264</td>\n",
       "      <td>0.683995</td>\n",
       "      <td>1.395349</td>\n",
       "      <td>0.495385</td>\n",
       "      <td>0.474354</td>\n",
       "      <td>0.627894</td>\n",
       "      <td>0.190486</td>\n",
       "      <td>848.176471</td>\n",
       "      <td>3656.172367</td>\n",
       "      <td>4504.348837</td>\n",
       "    </tr>\n",
       "    <tr>\n",
       "      <th>std</th>\n",
       "      <td>211.165812</td>\n",
       "      <td>1.110807</td>\n",
       "      <td>0.500342</td>\n",
       "      <td>3.451913</td>\n",
       "      <td>0.167155</td>\n",
       "      <td>2.004787</td>\n",
       "      <td>0.465233</td>\n",
       "      <td>0.544894</td>\n",
       "      <td>0.183051</td>\n",
       "      <td>0.162961</td>\n",
       "      <td>0.142429</td>\n",
       "      <td>0.077498</td>\n",
       "      <td>686.622488</td>\n",
       "      <td>1560.256377</td>\n",
       "      <td>1937.211452</td>\n",
       "    </tr>\n",
       "    <tr>\n",
       "      <th>min</th>\n",
       "      <td>1.000000</td>\n",
       "      <td>1.000000</td>\n",
       "      <td>0.000000</td>\n",
       "      <td>1.000000</td>\n",
       "      <td>0.000000</td>\n",
       "      <td>0.000000</td>\n",
       "      <td>0.000000</td>\n",
       "      <td>1.000000</td>\n",
       "      <td>0.059130</td>\n",
       "      <td>0.079070</td>\n",
       "      <td>0.000000</td>\n",
       "      <td>0.022392</td>\n",
       "      <td>2.000000</td>\n",
       "      <td>20.000000</td>\n",
       "      <td>22.000000</td>\n",
       "    </tr>\n",
       "    <tr>\n",
       "      <th>25%</th>\n",
       "      <td>183.500000</td>\n",
       "      <td>2.000000</td>\n",
       "      <td>0.000000</td>\n",
       "      <td>4.000000</td>\n",
       "      <td>0.000000</td>\n",
       "      <td>1.000000</td>\n",
       "      <td>0.000000</td>\n",
       "      <td>1.000000</td>\n",
       "      <td>0.337083</td>\n",
       "      <td>0.337842</td>\n",
       "      <td>0.520000</td>\n",
       "      <td>0.134950</td>\n",
       "      <td>315.500000</td>\n",
       "      <td>2497.000000</td>\n",
       "      <td>3152.000000</td>\n",
       "    </tr>\n",
       "    <tr>\n",
       "      <th>50%</th>\n",
       "      <td>366.000000</td>\n",
       "      <td>3.000000</td>\n",
       "      <td>1.000000</td>\n",
       "      <td>7.000000</td>\n",
       "      <td>0.000000</td>\n",
       "      <td>3.000000</td>\n",
       "      <td>1.000000</td>\n",
       "      <td>1.000000</td>\n",
       "      <td>0.498333</td>\n",
       "      <td>0.486733</td>\n",
       "      <td>0.626667</td>\n",
       "      <td>0.180975</td>\n",
       "      <td>713.000000</td>\n",
       "      <td>3662.000000</td>\n",
       "      <td>4548.000000</td>\n",
       "    </tr>\n",
       "    <tr>\n",
       "      <th>75%</th>\n",
       "      <td>548.500000</td>\n",
       "      <td>3.000000</td>\n",
       "      <td>1.000000</td>\n",
       "      <td>10.000000</td>\n",
       "      <td>0.000000</td>\n",
       "      <td>5.000000</td>\n",
       "      <td>1.000000</td>\n",
       "      <td>2.000000</td>\n",
       "      <td>0.655417</td>\n",
       "      <td>0.608602</td>\n",
       "      <td>0.730209</td>\n",
       "      <td>0.233214</td>\n",
       "      <td>1096.000000</td>\n",
       "      <td>4776.500000</td>\n",
       "      <td>5956.000000</td>\n",
       "    </tr>\n",
       "    <tr>\n",
       "      <th>max</th>\n",
       "      <td>731.000000</td>\n",
       "      <td>4.000000</td>\n",
       "      <td>1.000000</td>\n",
       "      <td>12.000000</td>\n",
       "      <td>1.000000</td>\n",
       "      <td>6.000000</td>\n",
       "      <td>1.000000</td>\n",
       "      <td>3.000000</td>\n",
       "      <td>0.861667</td>\n",
       "      <td>0.840896</td>\n",
       "      <td>0.972500</td>\n",
       "      <td>0.507463</td>\n",
       "      <td>3410.000000</td>\n",
       "      <td>6946.000000</td>\n",
       "      <td>8714.000000</td>\n",
       "    </tr>\n",
       "  </tbody>\n",
       "</table>\n",
       "</div>"
      ],
      "text/plain": [
       "          instant      season          yr        mnth     holiday     weekday  \\\n",
       "count  731.000000  731.000000  731.000000  731.000000  731.000000  731.000000   \n",
       "mean   366.000000    2.496580    0.500684    6.519836    0.028728    2.997264   \n",
       "std    211.165812    1.110807    0.500342    3.451913    0.167155    2.004787   \n",
       "min      1.000000    1.000000    0.000000    1.000000    0.000000    0.000000   \n",
       "25%    183.500000    2.000000    0.000000    4.000000    0.000000    1.000000   \n",
       "50%    366.000000    3.000000    1.000000    7.000000    0.000000    3.000000   \n",
       "75%    548.500000    3.000000    1.000000   10.000000    0.000000    5.000000   \n",
       "max    731.000000    4.000000    1.000000   12.000000    1.000000    6.000000   \n",
       "\n",
       "       workingday  weathersit        temp       atemp         hum   windspeed  \\\n",
       "count  731.000000  731.000000  731.000000  731.000000  731.000000  731.000000   \n",
       "mean     0.683995    1.395349    0.495385    0.474354    0.627894    0.190486   \n",
       "std      0.465233    0.544894    0.183051    0.162961    0.142429    0.077498   \n",
       "min      0.000000    1.000000    0.059130    0.079070    0.000000    0.022392   \n",
       "25%      0.000000    1.000000    0.337083    0.337842    0.520000    0.134950   \n",
       "50%      1.000000    1.000000    0.498333    0.486733    0.626667    0.180975   \n",
       "75%      1.000000    2.000000    0.655417    0.608602    0.730209    0.233214   \n",
       "max      1.000000    3.000000    0.861667    0.840896    0.972500    0.507463   \n",
       "\n",
       "            casual   registered          cnt  \n",
       "count   731.000000   731.000000   731.000000  \n",
       "mean    848.176471  3656.172367  4504.348837  \n",
       "std     686.622488  1560.256377  1937.211452  \n",
       "min       2.000000    20.000000    22.000000  \n",
       "25%     315.500000  2497.000000  3152.000000  \n",
       "50%     713.000000  3662.000000  4548.000000  \n",
       "75%    1096.000000  4776.500000  5956.000000  \n",
       "max    3410.000000  6946.000000  8714.000000  "
      ]
     },
     "execution_count": 63,
     "metadata": {},
     "output_type": "execute_result"
    }
   ],
   "source": [
    "# memeriksa parameter statistik untuk kolom numerik pada dataset day\n",
    "day_df.describe()"
   ]
  },
  {
   "cell_type": "markdown",
   "metadata": {},
   "source": [
    "Tidak ditemukan adanya keanehan pada parameter statistik."
   ]
  },
  {
   "cell_type": "markdown",
   "metadata": {
    "id": "EhN5R4hr8DC1"
   },
   "source": [
    "### 1.3 Cleaning Data"
   ]
  },
  {
   "cell_type": "markdown",
   "metadata": {},
   "source": [
    "#### 1.3.1 Rancangan Pembersihan Data\n",
    "* Mengubah tipe data pada kolom `dteday` yang pada awalnya object menjadi datetime\n",
    "* Mengubah isi kolom `yr` dari numerik menjadi string\n",
    "* Mengubah isi kolom `season` dari numerik menjadi string (angka 1-4)\n",
    "* Mengubah isi kolom `mnth` dari numerik menjadi string (angka 1-12)\n",
    "* Mengubah isi kolom `weekday` dari numerik menjadi string (angka 0-6 dengan 0 sebagai hari Minggu)\n",
    "* Mengubah isi kolom `weathersit` dari numerik menjadi stringa (angka 1-4)\n",
    "* Mengubah isi kolom `temp` dan `atemp` menjadi sebelum dinormalisasikan"
   ]
  },
  {
   "cell_type": "code",
   "execution_count": 64,
   "metadata": {
    "id": "jVnYpprE9Evz"
   },
   "outputs": [
    {
     "name": "stdout",
     "output_type": "stream",
     "text": [
      "<class 'pandas.core.frame.DataFrame'>\n",
      "RangeIndex: 731 entries, 0 to 730\n",
      "Data columns (total 16 columns):\n",
      " #   Column      Non-Null Count  Dtype         \n",
      "---  ------      --------------  -----         \n",
      " 0   instant     731 non-null    int64         \n",
      " 1   dteday      731 non-null    datetime64[ns]\n",
      " 2   season      731 non-null    int64         \n",
      " 3   yr          731 non-null    int64         \n",
      " 4   mnth        731 non-null    int64         \n",
      " 5   holiday     731 non-null    int64         \n",
      " 6   weekday     731 non-null    int64         \n",
      " 7   workingday  731 non-null    int64         \n",
      " 8   weathersit  731 non-null    int64         \n",
      " 9   temp        731 non-null    float64       \n",
      " 10  atemp       731 non-null    float64       \n",
      " 11  hum         731 non-null    float64       \n",
      " 12  windspeed   731 non-null    float64       \n",
      " 13  casual      731 non-null    int64         \n",
      " 14  registered  731 non-null    int64         \n",
      " 15  cnt         731 non-null    int64         \n",
      "dtypes: datetime64[ns](1), float64(4), int64(11)\n",
      "memory usage: 91.5 KB\n"
     ]
    }
   ],
   "source": [
    "# mengubah tipe data pada kolom dteday menjadi datetime\n",
    "day_df['dteday'] = pd.to_datetime(day_df['dteday'])\n",
    "day_df.info()\n",
    "\n",
    "# mengubah isi kolom temp dan atemp\n",
    "day_df['temp'] = day_df['temp']*41 \n",
    "day_df['atemp'] = day_df['atemp']*50"
   ]
  },
  {
   "cell_type": "markdown",
   "metadata": {},
   "source": [
    "#### 1.3.2 Konversi Tipe Data Int menjadi Category"
   ]
  },
  {
   "cell_type": "code",
   "execution_count": 65,
   "metadata": {},
   "outputs": [
    {
     "name": "stdout",
     "output_type": "stream",
     "text": [
      "<class 'pandas.core.frame.DataFrame'>\n",
      "RangeIndex: 731 entries, 0 to 730\n",
      "Data columns (total 16 columns):\n",
      " #   Column      Non-Null Count  Dtype         \n",
      "---  ------      --------------  -----         \n",
      " 0   instant     731 non-null    int64         \n",
      " 1   dteday      731 non-null    datetime64[ns]\n",
      " 2   season      731 non-null    category      \n",
      " 3   yr          731 non-null    category      \n",
      " 4   mnth        731 non-null    category      \n",
      " 5   holiday     731 non-null    int64         \n",
      " 6   weekday     731 non-null    category      \n",
      " 7   workingday  731 non-null    int64         \n",
      " 8   weathersit  731 non-null    category      \n",
      " 9   temp        731 non-null    float64       \n",
      " 10  atemp       731 non-null    float64       \n",
      " 11  hum         731 non-null    float64       \n",
      " 12  windspeed   731 non-null    float64       \n",
      " 13  casual      731 non-null    int64         \n",
      " 14  registered  731 non-null    int64         \n",
      " 15  cnt         731 non-null    int64         \n",
      "dtypes: category(5), datetime64[ns](1), float64(4), int64(6)\n",
      "memory usage: 67.7 KB\n"
     ]
    }
   ],
   "source": [
    "# mengubah tipe data kolom berikut dari integer menjadi category\n",
    "columns_to_convert = ['yr', 'season', 'mnth', 'weekday', 'weathersit']\n",
    "\n",
    "# konversi menggunakan fungsi astype()\n",
    "for column in columns_to_convert:\n",
    "    day_df[column] = day_df[column].astype('category')\n",
    "\n",
    "day_df.info()"
   ]
  },
  {
   "cell_type": "markdown",
   "metadata": {},
   "source": [
    "#### 1.3.3 Melakukan Subtitusi String pada Angka Numerik"
   ]
  },
  {
   "cell_type": "code",
   "execution_count": 66,
   "metadata": {},
   "outputs": [
    {
     "data": {
      "text/html": [
       "<div>\n",
       "<style scoped>\n",
       "    .dataframe tbody tr th:only-of-type {\n",
       "        vertical-align: middle;\n",
       "    }\n",
       "\n",
       "    .dataframe tbody tr th {\n",
       "        vertical-align: top;\n",
       "    }\n",
       "\n",
       "    .dataframe thead th {\n",
       "        text-align: right;\n",
       "    }\n",
       "</style>\n",
       "<table border=\"1\" class=\"dataframe\">\n",
       "  <thead>\n",
       "    <tr style=\"text-align: right;\">\n",
       "      <th></th>\n",
       "      <th>instant</th>\n",
       "      <th>dteday</th>\n",
       "      <th>season</th>\n",
       "      <th>yr</th>\n",
       "      <th>mnth</th>\n",
       "      <th>holiday</th>\n",
       "      <th>weekday</th>\n",
       "      <th>workingday</th>\n",
       "      <th>weathersit</th>\n",
       "      <th>temp</th>\n",
       "      <th>atemp</th>\n",
       "      <th>hum</th>\n",
       "      <th>windspeed</th>\n",
       "      <th>casual</th>\n",
       "      <th>registered</th>\n",
       "      <th>cnt</th>\n",
       "    </tr>\n",
       "  </thead>\n",
       "  <tbody>\n",
       "    <tr>\n",
       "      <th>0</th>\n",
       "      <td>1</td>\n",
       "      <td>2011-01-01</td>\n",
       "      <td>Spring</td>\n",
       "      <td>2011</td>\n",
       "      <td>Jan</td>\n",
       "      <td>0</td>\n",
       "      <td>Saturday</td>\n",
       "      <td>0</td>\n",
       "      <td>Mist or Cloudy</td>\n",
       "      <td>14.110847</td>\n",
       "      <td>18.18125</td>\n",
       "      <td>0.805833</td>\n",
       "      <td>0.160446</td>\n",
       "      <td>331</td>\n",
       "      <td>654</td>\n",
       "      <td>985</td>\n",
       "    </tr>\n",
       "    <tr>\n",
       "      <th>1</th>\n",
       "      <td>2</td>\n",
       "      <td>2011-01-02</td>\n",
       "      <td>Spring</td>\n",
       "      <td>2011</td>\n",
       "      <td>Jan</td>\n",
       "      <td>0</td>\n",
       "      <td>Sunday</td>\n",
       "      <td>0</td>\n",
       "      <td>Mist or Cloudy</td>\n",
       "      <td>14.902598</td>\n",
       "      <td>17.68695</td>\n",
       "      <td>0.696087</td>\n",
       "      <td>0.248539</td>\n",
       "      <td>131</td>\n",
       "      <td>670</td>\n",
       "      <td>801</td>\n",
       "    </tr>\n",
       "    <tr>\n",
       "      <th>2</th>\n",
       "      <td>3</td>\n",
       "      <td>2011-01-03</td>\n",
       "      <td>Spring</td>\n",
       "      <td>2011</td>\n",
       "      <td>Jan</td>\n",
       "      <td>0</td>\n",
       "      <td>Monday</td>\n",
       "      <td>1</td>\n",
       "      <td>Clear or Partly Cloudy</td>\n",
       "      <td>8.050924</td>\n",
       "      <td>9.47025</td>\n",
       "      <td>0.437273</td>\n",
       "      <td>0.248309</td>\n",
       "      <td>120</td>\n",
       "      <td>1229</td>\n",
       "      <td>1349</td>\n",
       "    </tr>\n",
       "    <tr>\n",
       "      <th>3</th>\n",
       "      <td>4</td>\n",
       "      <td>2011-01-04</td>\n",
       "      <td>Spring</td>\n",
       "      <td>2011</td>\n",
       "      <td>Jan</td>\n",
       "      <td>0</td>\n",
       "      <td>Tuesday</td>\n",
       "      <td>1</td>\n",
       "      <td>Clear or Partly Cloudy</td>\n",
       "      <td>8.200000</td>\n",
       "      <td>10.60610</td>\n",
       "      <td>0.590435</td>\n",
       "      <td>0.160296</td>\n",
       "      <td>108</td>\n",
       "      <td>1454</td>\n",
       "      <td>1562</td>\n",
       "    </tr>\n",
       "    <tr>\n",
       "      <th>4</th>\n",
       "      <td>5</td>\n",
       "      <td>2011-01-05</td>\n",
       "      <td>Spring</td>\n",
       "      <td>2011</td>\n",
       "      <td>Jan</td>\n",
       "      <td>0</td>\n",
       "      <td>Wednesday</td>\n",
       "      <td>1</td>\n",
       "      <td>Clear or Partly Cloudy</td>\n",
       "      <td>9.305237</td>\n",
       "      <td>11.46350</td>\n",
       "      <td>0.436957</td>\n",
       "      <td>0.186900</td>\n",
       "      <td>82</td>\n",
       "      <td>1518</td>\n",
       "      <td>1600</td>\n",
       "    </tr>\n",
       "  </tbody>\n",
       "</table>\n",
       "</div>"
      ],
      "text/plain": [
       "   instant     dteday  season    yr mnth  holiday    weekday  workingday  \\\n",
       "0        1 2011-01-01  Spring  2011  Jan        0   Saturday           0   \n",
       "1        2 2011-01-02  Spring  2011  Jan        0     Sunday           0   \n",
       "2        3 2011-01-03  Spring  2011  Jan        0     Monday           1   \n",
       "3        4 2011-01-04  Spring  2011  Jan        0    Tuesday           1   \n",
       "4        5 2011-01-05  Spring  2011  Jan        0  Wednesday           1   \n",
       "\n",
       "               weathersit       temp     atemp       hum  windspeed  casual  \\\n",
       "0          Mist or Cloudy  14.110847  18.18125  0.805833   0.160446     331   \n",
       "1          Mist or Cloudy  14.902598  17.68695  0.696087   0.248539     131   \n",
       "2  Clear or Partly Cloudy   8.050924   9.47025  0.437273   0.248309     120   \n",
       "3  Clear or Partly Cloudy   8.200000  10.60610  0.590435   0.160296     108   \n",
       "4  Clear or Partly Cloudy   9.305237  11.46350  0.436957   0.186900      82   \n",
       "\n",
       "   registered   cnt  \n",
       "0         654   985  \n",
       "1         670   801  \n",
       "2        1229  1349  \n",
       "3        1454  1562  \n",
       "4        1518  1600  "
      ]
     },
     "execution_count": 66,
     "metadata": {},
     "output_type": "execute_result"
    }
   ],
   "source": [
    "# mengubah isi kolom season, mnth, weekday, dan weathersit dari numerik menjadi string\n",
    "# dikarenakan dataframe merupakan kumpulan dari beberapa series maka kita dapat menggunakan fungsi map()\n",
    "\n",
    "day_df['yr'] = day_df['yr'].map({\n",
    "    0: '2011', 1: '2012'\n",
    "})\n",
    "\n",
    "day_df['season'] = day_df['season'].map({\n",
    "    1: 'Spring', 2: 'Summer', 3: 'Fall', 4: 'Winter'\n",
    "})\n",
    "\n",
    "day_df['mnth'] = day_df['mnth'].map({\n",
    "    1: 'Jan', 2: 'Feb', 3: 'Mar', 4: 'Apr',\n",
    "    5: 'May', 6: 'Jun', 7: 'Jul', 8: 'Aug', 9: 'Sept',\n",
    "    10: 'Oct', 11: 'Nov', 12: 'Dec'\n",
    "})\n",
    "\n",
    "day_df['weekday'] = day_df['weekday'].map({\n",
    "    0: 'Sunday', 1: 'Monday', 2: 'Tuesday', 3: 'Wednesday', \n",
    "    4: 'Thursday', 5: 'Friday', 6: 'Saturday'\n",
    "})\n",
    "\n",
    "day_df['weathersit'] = day_df['weathersit'].map({\n",
    "1: 'Clear or Partly Cloudy', 2: 'Mist or Cloudy',\n",
    "3: 'Light Snow or Rain', 4: 'Heavy Rain or Snow'\n",
    "})\n",
    "\n",
    "day_df.head(5)"
   ]
  },
  {
   "cell_type": "markdown",
   "metadata": {
    "id": "gp-Y6wU38DC1"
   },
   "source": [
    "## 2. Exploratory Data Analysis (EDA)"
   ]
  },
  {
   "cell_type": "markdown",
   "metadata": {
    "id": "MW7WF2kr8DC1"
   },
   "source": [
    "### 2.1 Explore dataframe `day_df`"
   ]
  },
  {
   "cell_type": "markdown",
   "metadata": {},
   "source": [
    "#### 2.1.1 Membuat Kolom Baru bernama Weekend yang Berisikan 1 Apabila Hari Sabtu atau Minggu"
   ]
  },
  {
   "cell_type": "code",
   "execution_count": 67,
   "metadata": {},
   "outputs": [],
   "source": [
    "day_df['weekend'] = day_df['weekday'].apply(lambda x: 1 if x in ['Saturday', 'Sunday'] else 0)"
   ]
  },
  {
   "cell_type": "markdown",
   "metadata": {},
   "source": [
    "#### 2.1.2 Pengelompokkan Jumlah Penyewa Terdaftar maupun kasual berdasarkan Cuaca"
   ]
  },
  {
   "cell_type": "code",
   "execution_count": 68,
   "metadata": {
    "id": "e9CQCZjk8DC2",
    "scrolled": true
   },
   "outputs": [
    {
     "name": "stderr",
     "output_type": "stream",
     "text": [
      "C:\\Users\\Azrian.PC\\AppData\\Local\\Temp\\ipykernel_18028\\163536119.py:1: FutureWarning: The default of observed=False is deprecated and will be changed to True in a future version of pandas. Pass observed=False to retain current behavior or observed=True to adopt the future default and silence this warning.\n",
      "  day_df.groupby(by='weathersit').agg({\n"
     ]
    },
    {
     "data": {
      "text/html": [
       "<div>\n",
       "<style scoped>\n",
       "    .dataframe tbody tr th:only-of-type {\n",
       "        vertical-align: middle;\n",
       "    }\n",
       "\n",
       "    .dataframe tbody tr th {\n",
       "        vertical-align: top;\n",
       "    }\n",
       "\n",
       "    .dataframe thead tr th {\n",
       "        text-align: left;\n",
       "    }\n",
       "\n",
       "    .dataframe thead tr:last-of-type th {\n",
       "        text-align: right;\n",
       "    }\n",
       "</style>\n",
       "<table border=\"1\" class=\"dataframe\">\n",
       "  <thead>\n",
       "    <tr>\n",
       "      <th></th>\n",
       "      <th colspan=\"2\" halign=\"left\">cnt</th>\n",
       "      <th colspan=\"2\" halign=\"left\">casual</th>\n",
       "      <th colspan=\"2\" halign=\"left\">registered</th>\n",
       "    </tr>\n",
       "    <tr>\n",
       "      <th></th>\n",
       "      <th>sum</th>\n",
       "      <th>mean</th>\n",
       "      <th>sum</th>\n",
       "      <th>mean</th>\n",
       "      <th>sum</th>\n",
       "      <th>mean</th>\n",
       "    </tr>\n",
       "    <tr>\n",
       "      <th>weathersit</th>\n",
       "      <th></th>\n",
       "      <th></th>\n",
       "      <th></th>\n",
       "      <th></th>\n",
       "      <th></th>\n",
       "      <th></th>\n",
       "    </tr>\n",
       "  </thead>\n",
       "  <tbody>\n",
       "    <tr>\n",
       "      <th>Clear or Partly Cloudy</th>\n",
       "      <td>2257952</td>\n",
       "      <td>4876.786177</td>\n",
       "      <td>446346</td>\n",
       "      <td>964.030238</td>\n",
       "      <td>1811606</td>\n",
       "      <td>3912.755940</td>\n",
       "    </tr>\n",
       "    <tr>\n",
       "      <th>Mist or Cloudy</th>\n",
       "      <td>996858</td>\n",
       "      <td>4035.862348</td>\n",
       "      <td>169776</td>\n",
       "      <td>687.352227</td>\n",
       "      <td>827082</td>\n",
       "      <td>3348.510121</td>\n",
       "    </tr>\n",
       "    <tr>\n",
       "      <th>Light Snow or Rain</th>\n",
       "      <td>37869</td>\n",
       "      <td>1803.285714</td>\n",
       "      <td>3895</td>\n",
       "      <td>185.476190</td>\n",
       "      <td>33974</td>\n",
       "      <td>1617.809524</td>\n",
       "    </tr>\n",
       "  </tbody>\n",
       "</table>\n",
       "</div>"
      ],
      "text/plain": [
       "                            cnt               casual             registered  \\\n",
       "                            sum         mean     sum        mean        sum   \n",
       "weathersit                                                                    \n",
       "Clear or Partly Cloudy  2257952  4876.786177  446346  964.030238    1811606   \n",
       "Mist or Cloudy           996858  4035.862348  169776  687.352227     827082   \n",
       "Light Snow or Rain        37869  1803.285714    3895  185.476190      33974   \n",
       "\n",
       "                                     \n",
       "                               mean  \n",
       "weathersit                           \n",
       "Clear or Partly Cloudy  3912.755940  \n",
       "Mist or Cloudy          3348.510121  \n",
       "Light Snow or Rain      1617.809524  "
      ]
     },
     "execution_count": 68,
     "metadata": {},
     "output_type": "execute_result"
    }
   ],
   "source": [
    "day_df.groupby(by='weathersit').agg({\n",
    "    'cnt' : ['sum', 'mean'],\n",
    "    'casual' : ['sum', 'mean'],\n",
    "    'registered' : ['sum', 'mean']\n",
    " })"
   ]
  },
  {
   "cell_type": "markdown",
   "metadata": {},
   "source": [
    "Berdasarkan pengelompokkan di atas, penyewa terbanyak terjadi ketika cuaca adalah `Clear or Partly Cloudy` dan dampak yang terjadi pada penyewa terdaftar dan kasual adalah sama (sama-sama bergantung pada cuaca). Selain itu, ketika cuaca merupakan `Heavy Rain or Snow` tidak ada penyewa sama sekali."
   ]
  },
  {
   "cell_type": "markdown",
   "metadata": {},
   "source": [
    "#### 2.1.3 Pengelompokkan Jumlah Penyewa berdasarkan Musim dan Cuaca"
   ]
  },
  {
   "cell_type": "code",
   "execution_count": 69,
   "metadata": {},
   "outputs": [
    {
     "name": "stderr",
     "output_type": "stream",
     "text": [
      "C:\\Users\\Azrian.PC\\AppData\\Local\\Temp\\ipykernel_18028\\2912856001.py:1: FutureWarning: The default of observed=False is deprecated and will be changed to True in a future version of pandas. Pass observed=False to retain current behavior or observed=True to adopt the future default and silence this warning.\n",
      "  day_df.groupby(by=['season', 'weathersit']).agg({\n"
     ]
    },
    {
     "data": {
      "text/html": [
       "<div>\n",
       "<style scoped>\n",
       "    .dataframe tbody tr th:only-of-type {\n",
       "        vertical-align: middle;\n",
       "    }\n",
       "\n",
       "    .dataframe tbody tr th {\n",
       "        vertical-align: top;\n",
       "    }\n",
       "\n",
       "    .dataframe thead tr th {\n",
       "        text-align: left;\n",
       "    }\n",
       "\n",
       "    .dataframe thead tr:last-of-type th {\n",
       "        text-align: right;\n",
       "    }\n",
       "</style>\n",
       "<table border=\"1\" class=\"dataframe\">\n",
       "  <thead>\n",
       "    <tr>\n",
       "      <th></th>\n",
       "      <th></th>\n",
       "      <th colspan=\"2\" halign=\"left\">cnt</th>\n",
       "      <th colspan=\"2\" halign=\"left\">casual</th>\n",
       "      <th colspan=\"2\" halign=\"left\">registered</th>\n",
       "    </tr>\n",
       "    <tr>\n",
       "      <th></th>\n",
       "      <th></th>\n",
       "      <th>sum</th>\n",
       "      <th>mean</th>\n",
       "      <th>sum</th>\n",
       "      <th>mean</th>\n",
       "      <th>sum</th>\n",
       "      <th>mean</th>\n",
       "    </tr>\n",
       "    <tr>\n",
       "      <th>season</th>\n",
       "      <th>weathersit</th>\n",
       "      <th></th>\n",
       "      <th></th>\n",
       "      <th></th>\n",
       "      <th></th>\n",
       "      <th></th>\n",
       "      <th></th>\n",
       "    </tr>\n",
       "  </thead>\n",
       "  <tbody>\n",
       "    <tr>\n",
       "      <th rowspan=\"3\" valign=\"top\">Spring</th>\n",
       "      <th>Clear or Partly Cloudy</th>\n",
       "      <td>312036</td>\n",
       "      <td>2811.135135</td>\n",
       "      <td>41562</td>\n",
       "      <td>374.432432</td>\n",
       "      <td>270474</td>\n",
       "      <td>2436.702703</td>\n",
       "    </tr>\n",
       "    <tr>\n",
       "      <th>Mist or Cloudy</th>\n",
       "      <td>155573</td>\n",
       "      <td>2357.166667</td>\n",
       "      <td>18779</td>\n",
       "      <td>284.530303</td>\n",
       "      <td>136794</td>\n",
       "      <td>2072.636364</td>\n",
       "    </tr>\n",
       "    <tr>\n",
       "      <th>Light Snow or Rain</th>\n",
       "      <td>3739</td>\n",
       "      <td>934.750000</td>\n",
       "      <td>281</td>\n",
       "      <td>70.250000</td>\n",
       "      <td>3458</td>\n",
       "      <td>864.500000</td>\n",
       "    </tr>\n",
       "    <tr>\n",
       "      <th rowspan=\"3\" valign=\"top\">Summer</th>\n",
       "      <th>Clear or Partly Cloudy</th>\n",
       "      <td>626986</td>\n",
       "      <td>5548.548673</td>\n",
       "      <td>146388</td>\n",
       "      <td>1295.469027</td>\n",
       "      <td>480598</td>\n",
       "      <td>4253.079646</td>\n",
       "    </tr>\n",
       "    <tr>\n",
       "      <th>Mist or Cloudy</th>\n",
       "      <td>288096</td>\n",
       "      <td>4236.705882</td>\n",
       "      <td>56714</td>\n",
       "      <td>834.029412</td>\n",
       "      <td>231382</td>\n",
       "      <td>3402.676471</td>\n",
       "    </tr>\n",
       "    <tr>\n",
       "      <th>Light Snow or Rain</th>\n",
       "      <td>3507</td>\n",
       "      <td>1169.000000</td>\n",
       "      <td>420</td>\n",
       "      <td>140.000000</td>\n",
       "      <td>3087</td>\n",
       "      <td>1029.000000</td>\n",
       "    </tr>\n",
       "    <tr>\n",
       "      <th rowspan=\"3\" valign=\"top\">Fall</th>\n",
       "      <th>Clear or Partly Cloudy</th>\n",
       "      <td>799443</td>\n",
       "      <td>5878.257353</td>\n",
       "      <td>167945</td>\n",
       "      <td>1234.889706</td>\n",
       "      <td>631498</td>\n",
       "      <td>4643.367647</td>\n",
       "    </tr>\n",
       "    <tr>\n",
       "      <th>Mist or Cloudy</th>\n",
       "      <td>250679</td>\n",
       "      <td>5222.479167</td>\n",
       "      <td>56407</td>\n",
       "      <td>1175.145833</td>\n",
       "      <td>194272</td>\n",
       "      <td>4047.333333</td>\n",
       "    </tr>\n",
       "    <tr>\n",
       "      <th>Light Snow or Rain</th>\n",
       "      <td>11007</td>\n",
       "      <td>2751.750000</td>\n",
       "      <td>1739</td>\n",
       "      <td>434.750000</td>\n",
       "      <td>9268</td>\n",
       "      <td>2317.000000</td>\n",
       "    </tr>\n",
       "    <tr>\n",
       "      <th rowspan=\"3\" valign=\"top\">Winter</th>\n",
       "      <th>Clear or Partly Cloudy</th>\n",
       "      <td>519487</td>\n",
       "      <td>5043.563107</td>\n",
       "      <td>90451</td>\n",
       "      <td>878.165049</td>\n",
       "      <td>429036</td>\n",
       "      <td>4165.398058</td>\n",
       "    </tr>\n",
       "    <tr>\n",
       "      <th>Mist or Cloudy</th>\n",
       "      <td>302510</td>\n",
       "      <td>4654.000000</td>\n",
       "      <td>37876</td>\n",
       "      <td>582.707692</td>\n",
       "      <td>264634</td>\n",
       "      <td>4071.292308</td>\n",
       "    </tr>\n",
       "    <tr>\n",
       "      <th>Light Snow or Rain</th>\n",
       "      <td>19616</td>\n",
       "      <td>1961.600000</td>\n",
       "      <td>1455</td>\n",
       "      <td>145.500000</td>\n",
       "      <td>18161</td>\n",
       "      <td>1816.100000</td>\n",
       "    </tr>\n",
       "  </tbody>\n",
       "</table>\n",
       "</div>"
      ],
      "text/plain": [
       "                                  cnt               casual               \\\n",
       "                                  sum         mean     sum         mean   \n",
       "season weathersit                                                         \n",
       "Spring Clear or Partly Cloudy  312036  2811.135135   41562   374.432432   \n",
       "       Mist or Cloudy          155573  2357.166667   18779   284.530303   \n",
       "       Light Snow or Rain        3739   934.750000     281    70.250000   \n",
       "Summer Clear or Partly Cloudy  626986  5548.548673  146388  1295.469027   \n",
       "       Mist or Cloudy          288096  4236.705882   56714   834.029412   \n",
       "       Light Snow or Rain        3507  1169.000000     420   140.000000   \n",
       "Fall   Clear or Partly Cloudy  799443  5878.257353  167945  1234.889706   \n",
       "       Mist or Cloudy          250679  5222.479167   56407  1175.145833   \n",
       "       Light Snow or Rain       11007  2751.750000    1739   434.750000   \n",
       "Winter Clear or Partly Cloudy  519487  5043.563107   90451   878.165049   \n",
       "       Mist or Cloudy          302510  4654.000000   37876   582.707692   \n",
       "       Light Snow or Rain       19616  1961.600000    1455   145.500000   \n",
       "\n",
       "                              registered               \n",
       "                                     sum         mean  \n",
       "season weathersit                                      \n",
       "Spring Clear or Partly Cloudy     270474  2436.702703  \n",
       "       Mist or Cloudy             136794  2072.636364  \n",
       "       Light Snow or Rain           3458   864.500000  \n",
       "Summer Clear or Partly Cloudy     480598  4253.079646  \n",
       "       Mist or Cloudy             231382  3402.676471  \n",
       "       Light Snow or Rain           3087  1029.000000  \n",
       "Fall   Clear or Partly Cloudy     631498  4643.367647  \n",
       "       Mist or Cloudy             194272  4047.333333  \n",
       "       Light Snow or Rain           9268  2317.000000  \n",
       "Winter Clear or Partly Cloudy     429036  4165.398058  \n",
       "       Mist or Cloudy             264634  4071.292308  \n",
       "       Light Snow or Rain          18161  1816.100000  "
      ]
     },
     "execution_count": 69,
     "metadata": {},
     "output_type": "execute_result"
    }
   ],
   "source": [
    "day_df.groupby(by=['season', 'weathersit']).agg({\n",
    "    'cnt' : ['sum', 'mean'],\n",
    "    'casual' : ['sum', 'mean'],\n",
    "    'registered' : ['sum', 'mean']\n",
    " })\n"
   ]
  },
  {
   "cell_type": "markdown",
   "metadata": {},
   "source": [
    "Dampak cuaca yang dihasilkan juga konsisten pada setiap musim yang artinya pada setiap musim, cuaca `Clear or Partly Cloud` tetap memiliki jumlah penyewa terbanyak."
   ]
  },
  {
   "cell_type": "markdown",
   "metadata": {},
   "source": [
    "#### 2.1.4 Pengelompokkan Jumlah Penyewa berdasarkan Hari"
   ]
  },
  {
   "cell_type": "code",
   "execution_count": 70,
   "metadata": {},
   "outputs": [
    {
     "name": "stderr",
     "output_type": "stream",
     "text": [
      "C:\\Users\\Azrian.PC\\AppData\\Local\\Temp\\ipykernel_18028\\2381614736.py:1: FutureWarning: The default of observed=False is deprecated and will be changed to True in a future version of pandas. Pass observed=False to retain current behavior or observed=True to adopt the future default and silence this warning.\n",
      "  count_weekday = day_df.groupby(by='weekday').agg({\n"
     ]
    },
    {
     "data": {
      "text/html": [
       "<div>\n",
       "<style scoped>\n",
       "    .dataframe tbody tr th:only-of-type {\n",
       "        vertical-align: middle;\n",
       "    }\n",
       "\n",
       "    .dataframe tbody tr th {\n",
       "        vertical-align: top;\n",
       "    }\n",
       "\n",
       "    .dataframe thead tr th {\n",
       "        text-align: left;\n",
       "    }\n",
       "\n",
       "    .dataframe thead tr:last-of-type th {\n",
       "        text-align: right;\n",
       "    }\n",
       "</style>\n",
       "<table border=\"1\" class=\"dataframe\">\n",
       "  <thead>\n",
       "    <tr>\n",
       "      <th></th>\n",
       "      <th colspan=\"2\" halign=\"left\">cnt</th>\n",
       "    </tr>\n",
       "    <tr>\n",
       "      <th></th>\n",
       "      <th>sum</th>\n",
       "      <th>mean</th>\n",
       "    </tr>\n",
       "    <tr>\n",
       "      <th>weekday</th>\n",
       "      <th></th>\n",
       "      <th></th>\n",
       "    </tr>\n",
       "  </thead>\n",
       "  <tbody>\n",
       "    <tr>\n",
       "      <th>Friday</th>\n",
       "      <td>487790</td>\n",
       "      <td>4690.288462</td>\n",
       "    </tr>\n",
       "    <tr>\n",
       "      <th>Thursday</th>\n",
       "      <td>485395</td>\n",
       "      <td>4667.259615</td>\n",
       "    </tr>\n",
       "    <tr>\n",
       "      <th>Saturday</th>\n",
       "      <td>477807</td>\n",
       "      <td>4550.542857</td>\n",
       "    </tr>\n",
       "    <tr>\n",
       "      <th>Wednesday</th>\n",
       "      <td>473048</td>\n",
       "      <td>4548.538462</td>\n",
       "    </tr>\n",
       "    <tr>\n",
       "      <th>Tuesday</th>\n",
       "      <td>469109</td>\n",
       "      <td>4510.663462</td>\n",
       "    </tr>\n",
       "    <tr>\n",
       "      <th>Monday</th>\n",
       "      <td>455503</td>\n",
       "      <td>4338.123810</td>\n",
       "    </tr>\n",
       "    <tr>\n",
       "      <th>Sunday</th>\n",
       "      <td>444027</td>\n",
       "      <td>4228.828571</td>\n",
       "    </tr>\n",
       "  </tbody>\n",
       "</table>\n",
       "</div>"
      ],
      "text/plain": [
       "              cnt             \n",
       "              sum         mean\n",
       "weekday                       \n",
       "Friday     487790  4690.288462\n",
       "Thursday   485395  4667.259615\n",
       "Saturday   477807  4550.542857\n",
       "Wednesday  473048  4548.538462\n",
       "Tuesday    469109  4510.663462\n",
       "Monday     455503  4338.123810\n",
       "Sunday     444027  4228.828571"
      ]
     },
     "execution_count": 70,
     "metadata": {},
     "output_type": "execute_result"
    }
   ],
   "source": [
    "count_weekday = day_df.groupby(by='weekday').agg({\n",
    "    'cnt' : ['sum', 'mean']\n",
    "})\n",
    "\n",
    "count_weekday.sort_values(by=('cnt', 'sum'), ascending=False)"
   ]
  },
  {
   "cell_type": "markdown",
   "metadata": {},
   "source": [
    "Berdasarkan pengelompokkkan di atas, rata-rata penyewa hari kerja vs hari weekend (Sabtu dan Minggu) tidak jauh berbeda dengan urutan jumlah penyewa terbesar hingga terkecil: Friday-Thursday-Saturday-Wednesday-Tuesday-Monday-Sunday."
   ]
  },
  {
   "cell_type": "markdown",
   "metadata": {},
   "source": [
    "#### 2.1.5 Pengelompokkan Jumlah Penyewa berdasarkan Hari Kerja dan Bukan Hari Kerja"
   ]
  },
  {
   "cell_type": "code",
   "execution_count": 71,
   "metadata": {},
   "outputs": [
    {
     "data": {
      "text/html": [
       "<div>\n",
       "<style scoped>\n",
       "    .dataframe tbody tr th:only-of-type {\n",
       "        vertical-align: middle;\n",
       "    }\n",
       "\n",
       "    .dataframe tbody tr th {\n",
       "        vertical-align: top;\n",
       "    }\n",
       "\n",
       "    .dataframe thead tr th {\n",
       "        text-align: left;\n",
       "    }\n",
       "\n",
       "    .dataframe thead tr:last-of-type th {\n",
       "        text-align: right;\n",
       "    }\n",
       "</style>\n",
       "<table border=\"1\" class=\"dataframe\">\n",
       "  <thead>\n",
       "    <tr>\n",
       "      <th></th>\n",
       "      <th colspan=\"4\" halign=\"left\">cnt</th>\n",
       "    </tr>\n",
       "    <tr>\n",
       "      <th></th>\n",
       "      <th>max</th>\n",
       "      <th>min</th>\n",
       "      <th>mean</th>\n",
       "      <th>sum</th>\n",
       "    </tr>\n",
       "    <tr>\n",
       "      <th>workingday</th>\n",
       "      <th></th>\n",
       "      <th></th>\n",
       "      <th></th>\n",
       "      <th></th>\n",
       "    </tr>\n",
       "  </thead>\n",
       "  <tbody>\n",
       "    <tr>\n",
       "      <th>0</th>\n",
       "      <td>8714</td>\n",
       "      <td>605</td>\n",
       "      <td>4330.168831</td>\n",
       "      <td>1000269</td>\n",
       "    </tr>\n",
       "    <tr>\n",
       "      <th>1</th>\n",
       "      <td>8362</td>\n",
       "      <td>22</td>\n",
       "      <td>4584.820000</td>\n",
       "      <td>2292410</td>\n",
       "    </tr>\n",
       "  </tbody>\n",
       "</table>\n",
       "</div>"
      ],
      "text/plain": [
       "             cnt                           \n",
       "             max  min         mean      sum\n",
       "workingday                                 \n",
       "0           8714  605  4330.168831  1000269\n",
       "1           8362   22  4584.820000  2292410"
      ]
     },
     "execution_count": 71,
     "metadata": {},
     "output_type": "execute_result"
    }
   ],
   "source": [
    "day_df.groupby(by='workingday').agg({\n",
    "    'cnt' : ['max', 'min', 'mean', 'sum']\n",
    "})"
   ]
  },
  {
   "cell_type": "markdown",
   "metadata": {},
   "source": [
    "Berdasarkan pengelompokkkan di atas, sebagian besar orang lebih memilih untuk menyewa di hari kerja dibandingkan hari libur."
   ]
  },
  {
   "cell_type": "markdown",
   "metadata": {
    "id": "zsyZjqak8DC2"
   },
   "source": [
    "## 3. Visualization & Explanatory Analysis"
   ]
  },
  {
   "cell_type": "markdown",
   "metadata": {},
   "source": [
    "### Pertanyaan 1: Apa dampak cuaca terhadap jumlah rental sepeda dan apakah dampaknya berbeda untuk pengguna biasa vs terdaftar?"
   ]
  },
  {
   "cell_type": "code",
   "execution_count": 72,
   "metadata": {},
   "outputs": [
    {
     "name": "stderr",
     "output_type": "stream",
     "text": [
      "C:\\Users\\Azrian.PC\\AppData\\Local\\Temp\\ipykernel_18028\\1021278296.py:2: FutureWarning: The default of observed=False is deprecated and will be changed to True in a future version of pandas. Pass observed=False to retain current behavior or observed=True to adopt the future default and silence this warning.\n",
      "  weathers_count_df = day_df.groupby(by='weathersit').agg({\n"
     ]
    },
    {
     "data": {
      "image/png": "[encoded data removed]",
      "text/plain": [
       "<Figure size 1000x600 with 1 Axes>"
      ]
     },
     "metadata": {},
     "output_type": "display_data"
    }
   ],
   "source": [
    "# Prepare the data\n",
    "weathers_count_df = day_df.groupby(by='weathersit').agg({\n",
    "    'cnt': 'sum',\n",
    "    'casual': 'sum',\n",
    "    'registered': 'sum'\n",
    "}).reset_index()\n",
    "\n",
    "# Reshape the DataFrame to make plotting easier\n",
    "weathers_melted_df = weathers_count_df.melt(\n",
    "    id_vars='weathersit', \n",
    "    value_vars=['cnt', 'casual', 'registered'], \n",
    "    var_name='Type', \n",
    "    value_name='Count')\n",
    "\n",
    "weathers_melted_df = weathers_melted_df.sort_values(by='Count', ascending=False)\n",
    "\n",
    "plt.figure(figsize=(10, 6))\n",
    "colors_ = ['#1f77b4', '#ff7f0e', '#2ca02c']  # Blue, Orange, Green\n",
    "# Create a single barplot\n",
    "sns.barplot(x='weathersit', y='Count', hue='Type', palette=colors_, data=weathers_melted_df)\n",
    "plt.title('Total User Type Count by Weather Condition')\n",
    "plt.xlabel(None)\n",
    "plt.ylabel(None)\n",
    "plt.legend(title='User Type')\n",
    "\n",
    "# Add value labels on top of each bar\n",
    "for container in plt.gca().containers:\n",
    "    plt.bar_label(container, fmt='%.0f', label_type='edge', fontsize=10, padding=2)\n",
    "\n",
    "plt.show()"
   ]
  },
  {
   "cell_type": "markdown",
   "metadata": {},
   "source": [
    "Berdasarkan grafik yang ditampilkan kita dapat menarik beberapa kesimpulan penting, \n",
    "1. Pengaruh Cuaca terhadap Jumlah Pengguna\n",
    "    - Kita dapat melihat bahwa cuaca `Clear or Partly Cloudy` memiliki dampak paling positif dengan jumlah pengguna tertinggi untuk semua tipe pengguna, diikuti oleh `Mist or Cloudy` dan diakhiri oleh `Light Snow or Rain` dengan dampak paling negatif karena memiliki pengguna terendah. \n",
    "\n",
    "2. Pengaruh Cuaca Konsisten di Seluruh Tipe Pengguna\n",
    "    - Dampaknya pada tipe pengguna adalah sama, baik untuk pengguna terdaftar (registered) maupun biasa (casual) memiliki pola penggunaan berdasarkan cuaca yang konsisten, artinya adalah pengguna terdaftar selalu lebih banyak dibandingkan pengguna biasa dalam semua kondisi cuaca."
   ]
  },
  {
   "cell_type": "markdown",
   "metadata": {},
   "source": [
    "### Pertanyaan 2: Pada kondisi cuaca apa bike sharing paling sedikit digunakan dan apakah ini konsisten di semua musim?"
   ]
  },
  {
   "cell_type": "code",
   "execution_count": 73,
   "metadata": {},
   "outputs": [
    {
     "name": "stderr",
     "output_type": "stream",
     "text": [
      "C:\\Users\\Azrian.PC\\AppData\\Local\\Temp\\ipykernel_18028\\3344334075.py:2: FutureWarning: The default of observed=False is deprecated and will be changed to True in a future version of pandas. Pass observed=False to retain current behavior or observed=True to adopt the future default and silence this warning.\n",
      "  season_weather_df = day_df.groupby(by=['season', 'weathersit']).agg({\n"
     ]
    },
    {
     "data": {
      "image/png": "[encoded data removed]",
      "text/plain": [
       "<Figure size 1000x600 with 1 Axes>"
      ]
     },
     "metadata": {},
     "output_type": "display_data"
    }
   ],
   "source": [
    "# Lakukan groupby dan agregasi\n",
    "season_weather_df = day_df.groupby(by=['season', 'weathersit']).agg({\n",
    "    'cnt': 'sum',\n",
    "}).reset_index()\n",
    "\n",
    "plt.figure(figsize=(10, 6))\n",
    "colors_ = ['#1f77b4', '#ff7f0e', '#2ca02c']  # Blue, Orange, Green\n",
    "\n",
    "sns.barplot(x='season', y='cnt', hue='weathersit',  palette=colors_, data=season_weather_df.sort_values(by='cnt', ascending=False))\n",
    "plt.title('Total Count by Season and Weather Situation', fontsize=20)\n",
    "plt.xlabel(None)\n",
    "plt.ylabel(None)\n",
    "plt.legend(title='Weather Situation', title_fontsize='13', fontsize='12')\n",
    "\n",
    "# Add value labels on top of each bar\n",
    "for container in plt.gca().containers:\n",
    "    plt.bar_label(container, fmt='%.0f', label_type='edge', fontsize=10, padding=2)\n",
    "\n",
    "plt.tight_layout()\n",
    "plt.show()"
   ]
  },
  {
   "cell_type": "markdown",
   "metadata": {},
   "source": [
    "- Berdasarkan grafik yang ditampilkan dapat diambil kesimpulan bahwa\n",
    "    - Bike sharing paling sedikit digunakan pada kondisi cuaca `Light Snow or Rain` dapat dilihat bahwa batang hijau yang mewakili kondisi cuaca tersebut selalu paling rendah di setiap musim.\n",
    "    Pola ini konsisten di setiap musim, pada setiap musim (spring, summer, fall, winter) penggunaan bike sharing selalu paling rendah saat kondisi cuaca `Light Snow or Rain`."
   ]
  },
  {
   "cell_type": "markdown",
   "metadata": {},
   "source": [
    "### Pertanyaan 3: Apakah ada perbedaan signifikan antara jumlah pengguna pada hari kerja vs akhir pekan?"
   ]
  },
  {
   "cell_type": "code",
   "execution_count": 74,
   "metadata": {},
   "outputs": [
    {
     "data": {
      "image/png": "[encoded data removed]",
      "text/plain": [
       "<Figure size 500x600 with 1 Axes>"
      ]
     },
     "metadata": {},
     "output_type": "display_data"
    }
   ],
   "source": [
    "plt.figure(figsize=(5, 6))\n",
    "\n",
    "# Hitung rata-rata 'cnt' berdasarkan 'weekend'\n",
    "count_weekend = day_df.groupby(by='weekend').agg({\n",
    "    'cnt': 'mean'\n",
    "}).reset_index()\n",
    "\n",
    "# Ganti nama kolom 'weekend' dengan label yang lebih deskriptif\n",
    "count_weekend['weekend'] = count_weekend['weekend'].map({\n",
    "    0: 'workday',\n",
    "    1: 'weekend'\n",
    "})\n",
    "\n",
    "sns.barplot(x='weekend', y='cnt', hue='weekend', data=count_weekend, palette='viridis')\n",
    "plt.title('Average Bike Rentals Usage based on Day Types')\n",
    "plt.xlabel(None)\n",
    "plt.ylabel(None)\n",
    "plt.tight_layout()\n",
    "plt.show()\n",
    "\n",
    "#"
   ]
  },
  {
   "cell_type": "markdown",
   "metadata": {},
   "source": [
    "Berdasarkan grafik yang ditampilkan\n",
    "- Tidak terdapat perbedaan yang signifikan, penggunaan rata-rata rental sepeda pada hari kerja dan akhir pekan memang berbeda namun perbedaannya tidak signifikan, rata-rata jumlah pengguna sepeda pada hari kerja sedikit lebih tinggi dibandingkan akhir pekan, perbedaan antar keduanya relatif kecil dengan selisih sekitar 100-150 pengguna.\n",
    "\n",
    "- Kesimpulannya, terlepas dari perbedaan yang kurang signifikan antara hari kerja dan akhir pekan, hari kerja memang memiliki jumlah pengguna yang sedikit lebih tinggi, namun layanan Bike Sharing tetap digunakan secara konsisten baik pada hari kerja maupun hari libur. Ini menandakan bahwa layanan tersebut digunakan sepanjang minggu, dengan sedikit kecendrungan pengguna yang lebih memakai pada hari-hari kerja."
   ]
  },
  {
   "cell_type": "markdown",
   "metadata": {},
   "source": [
    "### Pertanyaan 4: Apakah ada korelasi antara suhu dengan jumlah pengguna? Bagaimana pengaruhnya?"
   ]
  },
  {
   "cell_type": "code",
   "execution_count": 75,
   "metadata": {},
   "outputs": [
    {
     "data": {
      "image/png": "[encoded data removed]",
      "text/plain": [
       "<Figure size 1200x800 with 1 Axes>"
      ]
     },
     "metadata": {},
     "output_type": "display_data"
    }
   ],
   "source": [
    "# Membuat scatter plot\n",
    "plt.figure(figsize=(12, 8))\n",
    "sns.scatterplot(data=day_df, x='temp', y='cnt', color='blue', label='Temperature', alpha=0.5, marker='o')\n",
    "sns.scatterplot(data=day_df, x='atemp', y='cnt', color='green', label='Feels-like Temperature', alpha=0.5, marker='o')\n",
    "\n",
    "# Menambahkan garis linear untuk temp\n",
    "sns.regplot(data=day_df, x='temp', y='cnt', scatter=False, color='blue')\n",
    "\n",
    "# Menambahkan garis linear untuk atemp\n",
    "sns.regplot(data=day_df, x='atemp', y='cnt', scatter=False, color='green')\n",
    "\n",
    "plt.title('Effect of Temperature on the Number of Bike Sharing Usage')\n",
    "plt.xlabel(None)\n",
    "plt.ylabel('User count')\n",
    "plt.legend()\n",
    "plt.show()"
   ]
  },
  {
   "cell_type": "markdown",
   "metadata": {},
   "source": [
    "Berdasarkan grafik scatter plot yang ditampilkan\n",
    "- Ya, terdapat korelasi positif yang jelas antara suhu dan jumlah pengguna layanan Bike Sharing\n",
    "- Pengaruhnya dapat diuraikan menjadi 4 hal: \n",
    "1. Korelasi positif: seiring dengan meningkatnya suhu, jumlah pengguna Bike Sharing cenderung meningkat, hal ini ditunjukkan dengan garis linear yang naik untuk kedua variabel suhu.\n",
    "2. Konsistensi: pola yang ditemukan konsisten baik untuk suhu aktual (biru) dan suhu yang dirasakan (hijau).\n",
    "3. Variabilitas: meskipun terdapat tren umum yang meningkat, terdapat variabilitas yang cukup besar pada jumlah pengguna yang timbul akibat suhu tertentu, hal ini ditunjukkan oleh sebaran titik-titik data.\n",
    "4. Perbedaan suhu aktual vs dirasakan: garis tren untuk suhu yang dirasakan (hijau) sedikit lebih curam dibandingkan suhu aktual (biru) hal ini dapat menandakan bahwa persepsi suhu mungkin memiliki pengaruh sedikit lebih kuat terhadap keputusan dalam menggunakan Bike Sharing.\n",
    "\n",
    "Kesimpulannya adalah terdapat korelasi positif yang cukup signifikan antara suhu dan jumlah pengguna Bike Sharing. Semakin tinggi suhu (dalam batas tertentu) semakin banyak orang cenderung menggunakan layanan ini. Namun, faktor-faktor lain juga mempengaruhi jumlah pengguna, seperti yang ditunjukkan oleh variabilitas dalam data. Informasi ini tentunya dapat dimanfaatkan untuk mengoptimalkan ketersediaan sepeda berdasarkan prakiraan cuaca dan untuk merancang strategi pemasaran dengan memanfaatkan kondisi cuaca yang menguntungkan."
   ]
  },
  {
   "cell_type": "markdown",
   "metadata": {
    "id": "_WeHlCeX8DC2"
   },
   "source": [
    "## Conclusion"
   ]
  },
  {
   "cell_type": "markdown",
   "metadata": {
    "id": "ZTcyR48Y8DC2"
   },
   "source": [
    "- Conclution pertanyaan 1: Apa dampak cuaca terhadap jumlah rental sepeda dan apakah dampaknya berbeda untuk pengguna biasa vs terdaftar?\n",
    "    - Kesimpulannya cuaca memiliki pengaruh signifikan terhadap penggunaan layanan sepeda, lalu dampaknya pada tipe pengguna adalah sama dengan pola yang konsisten di seluruh tipe pengguna. Informasi ini dapat digunakan untuk mengoptimalkan operasional dan strategi pemasaran layanan sepeda.\n",
    "\n",
    "- Conclution pertanyaan 2: Pada kondisi cuaca apa bike sharing paling sedikit digunakan dan apakah ini konsisten di semua musim?\n",
    "    - Kesimpulannya, cuaca `Light Snow or Rain` secara konsisten menyebabkan penggunaan bike sharing paling rendah di semua musim, menunjukkan bahwa kondisi cuaca ini memiliki dampak negatif yang signifikan terhadap penggunaan layanan bike sharing.\n",
    "\n",
    "- Conclution pertanyaan 3: Apakah ada perbedaan signifikan antara jumlah pengguna pada hari kerja vs akhir pekan?\n",
    "    -  Kesimpulannya, terlepas dari perbedaan yang kurang signifikan antara hari kerja dan akhir pekan, hari kerja memang memiliki jumlah pengguna yang sedikit lebih tinggi, namun layanan Bike Sharing tetap digunakan secara konsisten baik pada hari kerja maupun hari libur. Ini menandakan bahwa layanan tersebut digunakan sepanjang minggu, dengan sedikit kecendrungan pengguna yang lebih memakai pada hari-hari kerja.\n",
    "\n",
    "- Conclution pertanyaan 4: Apakah ada korelasi antara suhu dengan jumlah pengguna? Bagaimana pengaruhnya?\n",
    "\n",
    "    - Kesimpulannya adalah terdapat korelasi positif yang cukup signifikan antara suhu dan jumlah pengguna Bike Sharing. Semakin tinggi suhu (dalam batas tertentu) semakin banyak orang cenderung menggunakan layanan ini. Namun, faktor-faktor lain juga mempengaruhi jumlah pengguna, seperti yang ditunjukkan oleh variabilitas dalam data. Informasi ini tentunya dapat dimanfaatkan untuk mengoptimalkan ketersediaan sepeda berdasarkan prakiraan cuaca dan untuk merancang strategi pemasaran dengan memanfaatkan kondisi cuaca yang menguntungkan."
   ]
  },
  {
   "cell_type": "markdown",
   "metadata": {},
   "source": [
    "### Penerapan Teknik Analisis Lanjutan - RFM Analysis untuk Kondisi Cuaca"
   ]
  },
  {
   "cell_type": "code",
   "execution_count": 76,
   "metadata": {},
   "outputs": [
    {
     "name": "stderr",
     "output_type": "stream",
     "text": [
      "C:\\Users\\Azrian.PC\\AppData\\Local\\Temp\\ipykernel_18028\\1463817462.py:1: FutureWarning: The default of observed=False is deprecated and will be changed to True in a future version of pandas. Pass observed=False to retain current behavior or observed=True to adopt the future default and silence this warning.\n",
      "  rfm_df = day_df.groupby(by='weathersit', as_index=False).agg({\n"
     ]
    },
    {
     "data": {
      "text/html": [
       "<div>\n",
       "<style scoped>\n",
       "    .dataframe tbody tr th:only-of-type {\n",
       "        vertical-align: middle;\n",
       "    }\n",
       "\n",
       "    .dataframe tbody tr th {\n",
       "        vertical-align: top;\n",
       "    }\n",
       "\n",
       "    .dataframe thead th {\n",
       "        text-align: right;\n",
       "    }\n",
       "</style>\n",
       "<table border=\"1\" class=\"dataframe\">\n",
       "  <thead>\n",
       "    <tr style=\"text-align: right;\">\n",
       "      <th></th>\n",
       "      <th>weathers</th>\n",
       "      <th>frequency</th>\n",
       "      <th>monetary</th>\n",
       "      <th>recency</th>\n",
       "    </tr>\n",
       "  </thead>\n",
       "  <tbody>\n",
       "    <tr>\n",
       "      <th>0</th>\n",
       "      <td>Clear or Partly Cloudy</td>\n",
       "      <td>463</td>\n",
       "      <td>2257952</td>\n",
       "      <td>1</td>\n",
       "    </tr>\n",
       "    <tr>\n",
       "      <th>1</th>\n",
       "      <td>Mist or Cloudy</td>\n",
       "      <td>247</td>\n",
       "      <td>996858</td>\n",
       "      <td>0</td>\n",
       "    </tr>\n",
       "    <tr>\n",
       "      <th>2</th>\n",
       "      <td>Light Snow or Rain</td>\n",
       "      <td>21</td>\n",
       "      <td>37869</td>\n",
       "      <td>5</td>\n",
       "    </tr>\n",
       "  </tbody>\n",
       "</table>\n",
       "</div>"
      ],
      "text/plain": [
       "                 weathers  frequency  monetary  recency\n",
       "0  Clear or Partly Cloudy        463   2257952        1\n",
       "1          Mist or Cloudy        247    996858        0\n",
       "2      Light Snow or Rain         21     37869        5"
      ]
     },
     "execution_count": 76,
     "metadata": {},
     "output_type": "execute_result"
    }
   ],
   "source": [
    "rfm_df = day_df.groupby(by='weathersit', as_index=False).agg({\n",
    "    'dteday' : 'max',       # taking last order data\n",
    "    'instant' : 'nunique',  # taking order count\n",
    "    'cnt' : 'sum'           # dikarenakan di sini tidak ada revenue, maka digunakan cnt (count rentals)\n",
    "})\n",
    "\n",
    "rfm_df.columns=['weathers', 'max_order_timestamp', 'frequency', 'monetary']\n",
    "\n",
    "rfm_df['max_order_timestamp'] = rfm_df['max_order_timestamp'].dt.date\n",
    "recent_date = day_df['dteday'].dt.date.max()\n",
    "rfm_df['recency'] = rfm_df['max_order_timestamp'].apply(lambda x: (recent_date - x).days)\n",
    "\n",
    "rfm_df.drop('max_order_timestamp', axis=1, inplace=True)\n",
    "rfm_df"
   ]
  },
  {
   "cell_type": "code",
   "execution_count": 77,
   "metadata": {},
   "outputs": [
    {
     "data": {
      "image/png": "[encoded data removed]",
      "text/plain": [
       "<Figure size 2500x600 with 3 Axes>"
      ]
     },
     "metadata": {},
     "output_type": "display_data"
    }
   ],
   "source": [
    "fig, ax = plt.subplots(nrows=1, ncols=3, figsize=(25, 6))\n",
    " \n",
    "colors = [\"#72BCD4\", \"#72BCD4\", \"#72BCD4\"]\n",
    "\n",
    "sns.barplot(\n",
    "    y='recency', x='weathers', \n",
    "    data=rfm_df.sort_values(by='recency', ascending=True),\n",
    "    palette=colors, hue='weathers', legend=False, ax=ax[0]\n",
    ")\n",
    "ax[0].set_ylabel(None)\n",
    "ax[0].set_xlabel(None)\n",
    "ax[0].set_title('By Recency (days)', loc='center', fontsize=18)\n",
    "ax[0].tick_params(axis='x', labelsize=15)\n",
    "\n",
    "sns.barplot(\n",
    "    y='frequency', x='weathers', \n",
    "    data=rfm_df.sort_values(by='frequency', ascending=False),\n",
    "    palette=colors, hue='weathers', legend=False, ax=ax[1]\n",
    ")\n",
    "ax[1].set_ylabel(None)\n",
    "ax[1].set_xlabel(None)\n",
    "ax[1].set_title('By frequency', loc='center', fontsize=18)\n",
    "ax[1].tick_params(axis='x', labelsize=15)\n",
    "\n",
    "sns.barplot(\n",
    "    y='monetary', x='weathers', \n",
    "    data=rfm_df.sort_values(by='monetary', ascending=False),\n",
    "    palette=colors, hue='weathers', legend=False, ax=ax[2]\n",
    ")\n",
    "ax[2].set_ylabel(None)\n",
    "ax[2].set_xlabel(None)\n",
    "ax[2].set_title('By monetary', loc='center', fontsize=18)\n",
    "ax[2].tick_params(axis='x', labelsize=15)\n",
    "\n",
    "plt.suptitle('RFM Analysis of Bike Sharing Usage Based on Weather Conditions', fontsize=15, y=1.05)\n",
    "plt.tight_layout()\n",
    "plt.show()"
   ]
  },
  {
   "cell_type": "markdown",
   "metadata": {},
   "source": [
    "Analisis RFM Penggunaan Layanan Bike Sharing berdasarkan Cuaca Menunjukkan:\n",
    "\n",
    "1. Recency (days):\n",
    "\n",
    "    * Penggunaan layanan bike sharing terakhir kali terjadi dalam waktu yang relatif lama saat cuaca \"Light Snow or Rain\". Ini mungkin menunjukkan bahwa pengguna cenderung tidak menggunakan layanan dalam kondisi cuaca yang kurang bersahabat dan lebih mungkin menggunakan layanan ketika cuaca cerah atau berawan sebagian.\n",
    "\n",
    "2. Frequency:\n",
    "    * Penggunaan layanan bike sharing paling sering terjadi saat cuaca `Clear or Partly Cloudy`. Ini menunjukkan bahwa pengguna cenderung lebih sering menggunakan layanan ketika cuaca cerah atau berawan sebagian. `Mist or Cloudy` juga menunjukkan frekuensi yang cukup tinggi, tetapi secara signifikan lebih rendah daripada `Clear or Partly Cloudy`. Frekuensi penggunaan turun drastis ketika cuaca `Light Snow or Rain`, menunjukkan bahwa pengguna cenderung menghindari penggunaan sepeda saat kondisi cuaca buruk.\n",
    "\n",
    "3. Monetary:\n",
    "    * Grafik \"Monetary\" menunjukkan bahwa pendapatan terbesar dari layanan bike sharing dihasilkan ketika cuaca `Clear or Partly Cloudy`, diikuti oleh `Mist or Cloudy`. Pendapatan yang sangat rendah terjadi saat cuaca `Light Snow or Rain`, menunjukkan bahwa kondisi cuaca yang buruk tidak hanya mengurangi penggunaan sepeda tetapi juga berpotensi mengurangi pendapatan secara keseluruhan."
   ]
  },
  {
   "cell_type": "markdown",
   "metadata": {},
   "source": [
    "#### Menyimpan File yang telah dibersihkan"
   ]
  },
  {
   "cell_type": "code",
   "execution_count": 78,
   "metadata": {},
   "outputs": [],
   "source": [
    "day_df.to_csv('cleaned_day.csv', index=False)"
   ]
  }
 ],
 "metadata": {
  "colab": {
   "provenance": []
  },
  "kernelspec": {
   "display_name": "Python 3 (ipykernel)",
   "language": "python",
   "name": "python3"
  },
  "language_info": {
   "codemirror_mode": {
    "name": "ipython",
    "version": 3
   },
   "file_extension": ".py",
   "mimetype": "text/x-python",
   "name": "python",
   "nbconvert_exporter": "python",
   "pygments_lexer": "ipython3",
   "version": "3.12.4"
  },
  "vscode": {
   "interpreter": {
    "hash": "972b3bf27e332e87b5379f2791f6ef9dfc79c71018c370b0d7423235e20fe4d7"
   }
  }
 },
 "nbformat": 4,
 "nbformat_minor": 4
}
